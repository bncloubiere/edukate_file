{
 "cells": [
  {
   "cell_type": "markdown",
   "id": "960f3f1c-deeb-4300-a962-11a23a5b9a52",
   "metadata": {},
   "source": [
    "<h1><center> Analysis Report for Netflix </center></h1>"
   ]
  },
  {
   "cell_type": "markdown",
   "id": "40da6f5b-cc7d-4a44-a668-915fc6938d47",
   "metadata": {},
   "source": [
    "__Diclaimer__: This report compiles the analysis done during the _Hackathon_, the final project from the Level 4 Data Analysis bootcamp provided by Cambridge Spark in December 2023."
   ]
  },
  {
   "cell_type": "markdown",
   "id": "ca078db9-7afc-4958-8c15-70a17ea0cc5d",
   "metadata": {},
   "source": [
    "**Warning**: Running the notebook will take long time due to the _Data cleaning_ process. To help with streamlining the data visualisation process, a static .csv was generated after cleaning the initial dataframe."
   ]
  },
  {
   "cell_type": "markdown",
   "id": "76bed93c-729a-4387-af95-5b2c62b0fc9b",
   "metadata": {},
   "source": [
    "## 1. Project introduction"
   ]
  },
  {
   "cell_type": "markdown",
   "id": "95c9fd1f-204a-472a-b799-5ab04326f9fc",
   "metadata": {},
   "source": [
    "### 1.1 Project overview"
   ]
  },
  {
   "cell_type": "markdown",
   "id": "ba9aa354-e643-4ee0-a9cb-5267ea3a8e9c",
   "metadata": {},
   "source": [
    "Netflix is one of the world's largest streaming platforms, with millions of users streaming movies and TV\n",
    "shows every day. As a result, Netflix has accumulated a massive amount of data that can be used to gain\n",
    "insights into user behaviour, preferences, and more.\n",
    "\n",
    "The CEO of CS-Streaming has brought you and your team in to analyse Netflix data for their new\n",
    "streaming service. They are confident that your analysis will be helpful to you in making decisions about\n",
    "their service. They need your expertise to uncover trends and insights from the Netflix data that will be\n",
    "beneficial to their new product. They are eager to begin this project and will therefore need a timely\n",
    "response.\n",
    "\n",
    "__Goal__: You are to report on how CS-Streaming can best optimise its services and compete with Netflix."
   ]
  },
  {
   "cell_type": "markdown",
   "id": "3c386933-6bf0-420a-b26a-cba95fc1f420",
   "metadata": {},
   "source": [
    "### 1.2 Data sourcing"
   ]
  },
  {
   "cell_type": "markdown",
   "id": "d82532c9-3482-46fe-a0b1-329932f8df97",
   "metadata": {},
   "source": [
    "The dataset used was downloaded from _Kaggle_ on 2023-12-12 around 18:30:00 following the [Kaggle's link](https://www.kaggle.com/datasets/shivamb/netflix-shows). The dataset was saved as a csv file entitled \"netflix_titles.csv\".\n",
    "\n",
    "The dataset contains the following features:\n",
    " - **show_id**: Unique ID for every Movie / Tv Show\n",
    " - **type**: Identifier - A Movie or TV Show\n",
    " - **title**: Title of the Movie / Tv Show\n",
    " - **director**: Director of the Movie\n",
    " - **cast**: Actors involved in the movie / show\n",
    " - **country**: Country where the movie / show was produced\n",
    " - **date_added**: Date it was added on Netflix\n",
    " - **release_year**: Actual Release year of the move / show\n",
    " - **rating**: TV Rating of the movie / show\n",
    " - **duration**: Total Duration - in minutes or number of seasons\n",
    " - **liste_in**: Categories of the show (eg Documentary, Drama...)\n",
    " - **description**: A short introduction to the show"
   ]
  },
  {
   "cell_type": "markdown",
   "id": "e16ff96b-6185-48ef-9298-5ee279cc9ee1",
   "metadata": {},
   "source": [
    "## 2. Data Preparation"
   ]
  },
  {
   "cell_type": "markdown",
   "id": "d9870b54-6b99-4eb9-91fd-c8c4c9fa6dcc",
   "metadata": {},
   "source": [
    "### 2.1 Librairies import"
   ]
  },
  {
   "cell_type": "code",
   "execution_count": 1,
   "id": "07e0e5a9-eaf5-4e04-9c32-1d65e35cbddf",
   "metadata": {
    "tags": []
   },
   "outputs": [
    {
     "name": "stdout",
     "output_type": "stream",
     "text": [
      "Requirement already satisfied: imdbpy in c:\\users\\bruno\\anaconda3\\lib\\site-packages (2022.7.9)\n",
      "Requirement already satisfied: cinemagoer in c:\\users\\bruno\\anaconda3\\lib\\site-packages (from imdbpy) (2023.5.1)\n",
      "Requirement already satisfied: SQLAlchemy in c:\\users\\bruno\\anaconda3\\lib\\site-packages (from cinemagoer->imdbpy) (2.0.21)\n",
      "Requirement already satisfied: lxml in c:\\users\\bruno\\anaconda3\\lib\\site-packages (from cinemagoer->imdbpy) (4.9.3)\n",
      "Requirement already satisfied: typing-extensions>=4.2.0 in c:\\users\\bruno\\anaconda3\\lib\\site-packages (from SQLAlchemy->cinemagoer->imdbpy) (4.7.1)\n",
      "Requirement already satisfied: greenlet!=0.4.17 in c:\\users\\bruno\\anaconda3\\lib\\site-packages (from SQLAlchemy->cinemagoer->imdbpy) (2.0.1)\n"
     ]
    }
   ],
   "source": [
    "# The following libraires were used throughout the notebook\n",
    "\n",
    "# import pandas for dataframe manipulation\n",
    "import pandas as pd \n",
    "\n",
    "# data visualisation librairies\n",
    "import matplotlib # to check version\n",
    "import matplotlib.pyplot as plt \n",
    "import seaborn as sns\n",
    "sns.set_theme() # set default visualisation apparence to seaborn instead of matplotlib\n",
    "\n",
    "# librairies for parsing web\n",
    "import requests\n",
    "from bs4 import BeautifulSoup\n",
    "import re\n",
    "import unicodedata\n",
    "\n",
    "# import numpy for NaN manipulation\n",
    "import numpy as np\n",
    "\n",
    "# import imdbpy to connect to IMDB REST API\n",
    "!pip install imdbpy\n",
    "from imdb import Cinemagoer\n",
    "from imdb import IMDbDataAccessError\n",
    "\n",
    "# prevent potential warning message to appear\n",
    "import warnings\n",
    "warnings.filterwarnings('ignore')"
   ]
  },
  {
   "cell_type": "code",
   "execution_count": 2,
   "id": "70f779ad-a1ac-4977-90b1-b9614f743eec",
   "metadata": {
    "tags": []
   },
   "outputs": [
    {
     "name": "stdout",
     "output_type": "stream",
     "text": [
      "Python version: 3.11.5\n",
      "Pandas version: 2.1.1\n",
      "Matplotlib version: 3.8.0\n",
      "Seaborn version: 0.12.2\n"
     ]
    }
   ],
   "source": [
    "# the following libraries version were used for this project\n",
    "from platform import python_version\n",
    "print(f\"Python version: {python_version()}\")\n",
    "print(f\"Pandas version: {pd.__version__}\")\n",
    "print(f\"Matplotlib version: {matplotlib.__version__}\")\n",
    "print(f\"Seaborn version: {sns.__version__}\")"
   ]
  },
  {
   "cell_type": "markdown",
   "id": "c8103d2f-deab-4822-a4e2-6d782dbe54f9",
   "metadata": {},
   "source": [
    "### 2.2 Functions definition"
   ]
  },
  {
   "cell_type": "markdown",
   "id": "5af80826-01fe-4151-aa5e-ee1662ad4980",
   "metadata": {},
   "source": [
    "This section collate all the custom function used throughout this report."
   ]
  },
  {
   "cell_type": "code",
   "execution_count": 3,
   "id": "8d436f33-7cfe-4dd1-afb9-102c19298a4f",
   "metadata": {
    "tags": []
   },
   "outputs": [],
   "source": [
    "def percentage_missing_values(df,self):\n",
    "    ''' This function calculates the percentage of missing values in either the full datframe or specific columns'''\n",
    "    if self == 'all':   # for entire dataframe\n",
    "        for i in df.columns:\n",
    "            nan_percentage = df[i].isna().sum() / len(df) * 100\n",
    "            print(f\"{i} null rate: {round(nan_percentage, 1)}%\")\n",
    "    else:\n",
    "        nan_percentage = df[self].isna().sum() / len(df) * 100\n",
    "        print(f\"{self} null rate: {round(nan_percentage, 1)}%\")"
   ]
  },
  {
   "cell_type": "code",
   "execution_count": 4,
   "id": "7ddfbfe2-fb96-4aec-88ad-7f9fdffce77b",
   "metadata": {
    "tags": []
   },
   "outputs": [],
   "source": [
    "def respected_uniqueness(df, self):\n",
    "    '''This function inspect columns where we expect values to be unique and check for duplicates'''\n",
    "    if len(df[self].unique()) == len(df):\n",
    "        print(f\"The column {self} only has unique values as expected\")\n",
    "    else:\n",
    "        print(f\"The column {self} does not only have unique values and need to be incpested further\")"
   ]
  },
  {
   "cell_type": "code",
   "execution_count": 5,
   "id": "5421d2c1-6eec-4ef4-a839-a45bf8b1b476",
   "metadata": {
    "tags": []
   },
   "outputs": [],
   "source": [
    "def clean_overview(df, self):\n",
    "    '''This function give a brief overview of the specified column to check if the data need more cleaning'''\n",
    "    percentage_missing_values(df,self)\n",
    "    print(5*\"-----\")\n",
    "    print(f\"The data type of the column {self} is : {df[self].dtype}\")\n",
    "    print(5*\"-----\")\n",
    "    print(df[self].value_counts())"
   ]
  },
  {
   "cell_type": "code",
   "execution_count": 6,
   "id": "dcdeba30-063b-40be-b091-1415d4358e79",
   "metadata": {
    "tags": []
   },
   "outputs": [],
   "source": [
    "def list_to_string(self):\n",
    "    '''This function concatenate words in a list into a single string'''\n",
    "    # initialize an empty string\n",
    "    string = \"\"\n",
    "    # traverse in the string\n",
    "    for item in self:\n",
    "        if string == \"\":\n",
    "            string = item\n",
    "        else:\n",
    "            string = string +\", \" + item\n",
    "\n",
    "    # return string\n",
    "    return string"
   ]
  },
  {
   "cell_type": "code",
   "execution_count": 7,
   "id": "b6aa3db4-403a-4597-ad20-b2bb07349744",
   "metadata": {
    "tags": []
   },
   "outputs": [],
   "source": [
    "# to display progress of code for long run\n",
    "# code available: https://mikulskibartosz.name/how-to-display-a-progress-bar-in-jupyter-notebook\n",
    "import time, sys\n",
    "from IPython.display import clear_output\n",
    "\n",
    "def update_progress(progress):\n",
    "    bar_length = 20\n",
    "    if isinstance(progress, int):\n",
    "        progress = float(progress)\n",
    "    if not isinstance(progress, float):\n",
    "        progress = 0\n",
    "    if progress < 0:\n",
    "        progress = 0\n",
    "    if progress >= 1:\n",
    "        progress = 1\n",
    "\n",
    "    block = int(round(bar_length * progress))\n",
    "    clear_output(wait = True)\n",
    "    text = \"Progress: [{0}] {1:.1f}%\".format( \"#\" * block + \"-\" * (bar_length - block), progress * 100)\n",
    "    print(text)"
   ]
  },
  {
   "cell_type": "markdown",
   "id": "c4106368-709a-4c35-be0a-d5284168d897",
   "metadata": {},
   "source": [
    "## 3. Exploratory Data Analysis (EDA)"
   ]
  },
  {
   "cell_type": "markdown",
   "id": "4d3dfb07-f88c-4cc9-9191-9bf9e5f964f6",
   "metadata": {},
   "source": [
    "### 3.1 Data loading and inspection"
   ]
  },
  {
   "cell_type": "code",
   "execution_count": 8,
   "id": "d6adbec4-e1a2-43d5-b3fc-403de9c42c24",
   "metadata": {
    "tags": []
   },
   "outputs": [],
   "source": [
    "# load csv file in a dataframe using pandas\n",
    "df = pd.read_csv(\"netflix_titles.csv\")"
   ]
  },
  {
   "cell_type": "markdown",
   "id": "399b9bf3-853a-40b5-83aa-04192ccada00",
   "metadata": {},
   "source": [
    "--------------------------------------------------"
   ]
  },
  {
   "cell_type": "code",
   "execution_count": 9,
   "id": "648d07c7-a638-411d-a7f7-4e6eb46aafe6",
   "metadata": {
    "tags": []
   },
   "outputs": [
    {
     "data": {
      "text/html": [
       "<div>\n",
       "<style scoped>\n",
       "    .dataframe tbody tr th:only-of-type {\n",
       "        vertical-align: middle;\n",
       "    }\n",
       "\n",
       "    .dataframe tbody tr th {\n",
       "        vertical-align: top;\n",
       "    }\n",
       "\n",
       "    .dataframe thead th {\n",
       "        text-align: right;\n",
       "    }\n",
       "</style>\n",
       "<table border=\"1\" class=\"dataframe\">\n",
       "  <thead>\n",
       "    <tr style=\"text-align: right;\">\n",
       "      <th></th>\n",
       "      <th>show_id</th>\n",
       "      <th>type</th>\n",
       "      <th>title</th>\n",
       "      <th>director</th>\n",
       "      <th>cast</th>\n",
       "      <th>country</th>\n",
       "      <th>date_added</th>\n",
       "      <th>release_year</th>\n",
       "      <th>rating</th>\n",
       "      <th>duration</th>\n",
       "      <th>listed_in</th>\n",
       "      <th>description</th>\n",
       "    </tr>\n",
       "  </thead>\n",
       "  <tbody>\n",
       "    <tr>\n",
       "      <th>0</th>\n",
       "      <td>s1</td>\n",
       "      <td>Movie</td>\n",
       "      <td>Dick Johnson Is Dead</td>\n",
       "      <td>Kirsten Johnson</td>\n",
       "      <td>NaN</td>\n",
       "      <td>United States</td>\n",
       "      <td>September 25, 2021</td>\n",
       "      <td>2020</td>\n",
       "      <td>PG-13</td>\n",
       "      <td>90 min</td>\n",
       "      <td>Documentaries</td>\n",
       "      <td>As her father nears the end of his life, filmm...</td>\n",
       "    </tr>\n",
       "    <tr>\n",
       "      <th>1</th>\n",
       "      <td>s2</td>\n",
       "      <td>TV Show</td>\n",
       "      <td>Blood &amp; Water</td>\n",
       "      <td>NaN</td>\n",
       "      <td>Ama Qamata, Khosi Ngema, Gail Mabalane, Thaban...</td>\n",
       "      <td>South Africa</td>\n",
       "      <td>September 24, 2021</td>\n",
       "      <td>2021</td>\n",
       "      <td>TV-MA</td>\n",
       "      <td>2 Seasons</td>\n",
       "      <td>International TV Shows, TV Dramas, TV Mysteries</td>\n",
       "      <td>After crossing paths at a party, a Cape Town t...</td>\n",
       "    </tr>\n",
       "    <tr>\n",
       "      <th>2</th>\n",
       "      <td>s3</td>\n",
       "      <td>TV Show</td>\n",
       "      <td>Ganglands</td>\n",
       "      <td>Julien Leclercq</td>\n",
       "      <td>Sami Bouajila, Tracy Gotoas, Samuel Jouy, Nabi...</td>\n",
       "      <td>NaN</td>\n",
       "      <td>September 24, 2021</td>\n",
       "      <td>2021</td>\n",
       "      <td>TV-MA</td>\n",
       "      <td>1 Season</td>\n",
       "      <td>Crime TV Shows, International TV Shows, TV Act...</td>\n",
       "      <td>To protect his family from a powerful drug lor...</td>\n",
       "    </tr>\n",
       "    <tr>\n",
       "      <th>3</th>\n",
       "      <td>s4</td>\n",
       "      <td>TV Show</td>\n",
       "      <td>Jailbirds New Orleans</td>\n",
       "      <td>NaN</td>\n",
       "      <td>NaN</td>\n",
       "      <td>NaN</td>\n",
       "      <td>September 24, 2021</td>\n",
       "      <td>2021</td>\n",
       "      <td>TV-MA</td>\n",
       "      <td>1 Season</td>\n",
       "      <td>Docuseries, Reality TV</td>\n",
       "      <td>Feuds, flirtations and toilet talk go down amo...</td>\n",
       "    </tr>\n",
       "    <tr>\n",
       "      <th>4</th>\n",
       "      <td>s5</td>\n",
       "      <td>TV Show</td>\n",
       "      <td>Kota Factory</td>\n",
       "      <td>NaN</td>\n",
       "      <td>Mayur More, Jitendra Kumar, Ranjan Raj, Alam K...</td>\n",
       "      <td>India</td>\n",
       "      <td>September 24, 2021</td>\n",
       "      <td>2021</td>\n",
       "      <td>TV-MA</td>\n",
       "      <td>2 Seasons</td>\n",
       "      <td>International TV Shows, Romantic TV Shows, TV ...</td>\n",
       "      <td>In a city of coaching centers known to train I...</td>\n",
       "    </tr>\n",
       "  </tbody>\n",
       "</table>\n",
       "</div>"
      ],
      "text/plain": [
       "  show_id     type                  title         director  \\\n",
       "0      s1    Movie   Dick Johnson Is Dead  Kirsten Johnson   \n",
       "1      s2  TV Show          Blood & Water              NaN   \n",
       "2      s3  TV Show              Ganglands  Julien Leclercq   \n",
       "3      s4  TV Show  Jailbirds New Orleans              NaN   \n",
       "4      s5  TV Show           Kota Factory              NaN   \n",
       "\n",
       "                                                cast        country  \\\n",
       "0                                                NaN  United States   \n",
       "1  Ama Qamata, Khosi Ngema, Gail Mabalane, Thaban...   South Africa   \n",
       "2  Sami Bouajila, Tracy Gotoas, Samuel Jouy, Nabi...            NaN   \n",
       "3                                                NaN            NaN   \n",
       "4  Mayur More, Jitendra Kumar, Ranjan Raj, Alam K...          India   \n",
       "\n",
       "           date_added  release_year rating   duration  \\\n",
       "0  September 25, 2021          2020  PG-13     90 min   \n",
       "1  September 24, 2021          2021  TV-MA  2 Seasons   \n",
       "2  September 24, 2021          2021  TV-MA   1 Season   \n",
       "3  September 24, 2021          2021  TV-MA   1 Season   \n",
       "4  September 24, 2021          2021  TV-MA  2 Seasons   \n",
       "\n",
       "                                           listed_in  \\\n",
       "0                                      Documentaries   \n",
       "1    International TV Shows, TV Dramas, TV Mysteries   \n",
       "2  Crime TV Shows, International TV Shows, TV Act...   \n",
       "3                             Docuseries, Reality TV   \n",
       "4  International TV Shows, Romantic TV Shows, TV ...   \n",
       "\n",
       "                                         description  \n",
       "0  As her father nears the end of his life, filmm...  \n",
       "1  After crossing paths at a party, a Cape Town t...  \n",
       "2  To protect his family from a powerful drug lor...  \n",
       "3  Feuds, flirtations and toilet talk go down amo...  \n",
       "4  In a city of coaching centers known to train I...  "
      ]
     },
     "execution_count": 9,
     "metadata": {},
     "output_type": "execute_result"
    }
   ],
   "source": [
    "# inspect top 5 rows of the new dataframe\n",
    "df.head()"
   ]
  },
  {
   "cell_type": "code",
   "execution_count": 10,
   "id": "7fe2c47c-0d46-4945-919c-72e340a26a99",
   "metadata": {
    "tags": []
   },
   "outputs": [
    {
     "data": {
      "text/html": [
       "<div>\n",
       "<style scoped>\n",
       "    .dataframe tbody tr th:only-of-type {\n",
       "        vertical-align: middle;\n",
       "    }\n",
       "\n",
       "    .dataframe tbody tr th {\n",
       "        vertical-align: top;\n",
       "    }\n",
       "\n",
       "    .dataframe thead th {\n",
       "        text-align: right;\n",
       "    }\n",
       "</style>\n",
       "<table border=\"1\" class=\"dataframe\">\n",
       "  <thead>\n",
       "    <tr style=\"text-align: right;\">\n",
       "      <th></th>\n",
       "      <th>show_id</th>\n",
       "      <th>type</th>\n",
       "      <th>title</th>\n",
       "      <th>director</th>\n",
       "      <th>cast</th>\n",
       "      <th>country</th>\n",
       "      <th>date_added</th>\n",
       "      <th>release_year</th>\n",
       "      <th>rating</th>\n",
       "      <th>duration</th>\n",
       "      <th>listed_in</th>\n",
       "      <th>description</th>\n",
       "    </tr>\n",
       "  </thead>\n",
       "  <tbody>\n",
       "    <tr>\n",
       "      <th>8802</th>\n",
       "      <td>s8803</td>\n",
       "      <td>Movie</td>\n",
       "      <td>Zodiac</td>\n",
       "      <td>David Fincher</td>\n",
       "      <td>Mark Ruffalo, Jake Gyllenhaal, Robert Downey J...</td>\n",
       "      <td>United States</td>\n",
       "      <td>November 20, 2019</td>\n",
       "      <td>2007</td>\n",
       "      <td>R</td>\n",
       "      <td>158 min</td>\n",
       "      <td>Cult Movies, Dramas, Thrillers</td>\n",
       "      <td>A political cartoonist, a crime reporter and a...</td>\n",
       "    </tr>\n",
       "    <tr>\n",
       "      <th>8803</th>\n",
       "      <td>s8804</td>\n",
       "      <td>TV Show</td>\n",
       "      <td>Zombie Dumb</td>\n",
       "      <td>NaN</td>\n",
       "      <td>NaN</td>\n",
       "      <td>NaN</td>\n",
       "      <td>July 1, 2019</td>\n",
       "      <td>2018</td>\n",
       "      <td>TV-Y7</td>\n",
       "      <td>2 Seasons</td>\n",
       "      <td>Kids' TV, Korean TV Shows, TV Comedies</td>\n",
       "      <td>While living alone in a spooky town, a young g...</td>\n",
       "    </tr>\n",
       "    <tr>\n",
       "      <th>8804</th>\n",
       "      <td>s8805</td>\n",
       "      <td>Movie</td>\n",
       "      <td>Zombieland</td>\n",
       "      <td>Ruben Fleischer</td>\n",
       "      <td>Jesse Eisenberg, Woody Harrelson, Emma Stone, ...</td>\n",
       "      <td>United States</td>\n",
       "      <td>November 1, 2019</td>\n",
       "      <td>2009</td>\n",
       "      <td>R</td>\n",
       "      <td>88 min</td>\n",
       "      <td>Comedies, Horror Movies</td>\n",
       "      <td>Looking to survive in a world taken over by zo...</td>\n",
       "    </tr>\n",
       "    <tr>\n",
       "      <th>8805</th>\n",
       "      <td>s8806</td>\n",
       "      <td>Movie</td>\n",
       "      <td>Zoom</td>\n",
       "      <td>Peter Hewitt</td>\n",
       "      <td>Tim Allen, Courteney Cox, Chevy Chase, Kate Ma...</td>\n",
       "      <td>United States</td>\n",
       "      <td>January 11, 2020</td>\n",
       "      <td>2006</td>\n",
       "      <td>PG</td>\n",
       "      <td>88 min</td>\n",
       "      <td>Children &amp; Family Movies, Comedies</td>\n",
       "      <td>Dragged from civilian life, a former superhero...</td>\n",
       "    </tr>\n",
       "    <tr>\n",
       "      <th>8806</th>\n",
       "      <td>s8807</td>\n",
       "      <td>Movie</td>\n",
       "      <td>Zubaan</td>\n",
       "      <td>Mozez Singh</td>\n",
       "      <td>Vicky Kaushal, Sarah-Jane Dias, Raaghav Chanan...</td>\n",
       "      <td>India</td>\n",
       "      <td>March 2, 2019</td>\n",
       "      <td>2015</td>\n",
       "      <td>TV-14</td>\n",
       "      <td>111 min</td>\n",
       "      <td>Dramas, International Movies, Music &amp; Musicals</td>\n",
       "      <td>A scrappy but poor boy worms his way into a ty...</td>\n",
       "    </tr>\n",
       "  </tbody>\n",
       "</table>\n",
       "</div>"
      ],
      "text/plain": [
       "     show_id     type        title         director  \\\n",
       "8802   s8803    Movie       Zodiac    David Fincher   \n",
       "8803   s8804  TV Show  Zombie Dumb              NaN   \n",
       "8804   s8805    Movie   Zombieland  Ruben Fleischer   \n",
       "8805   s8806    Movie         Zoom     Peter Hewitt   \n",
       "8806   s8807    Movie       Zubaan      Mozez Singh   \n",
       "\n",
       "                                                   cast        country  \\\n",
       "8802  Mark Ruffalo, Jake Gyllenhaal, Robert Downey J...  United States   \n",
       "8803                                                NaN            NaN   \n",
       "8804  Jesse Eisenberg, Woody Harrelson, Emma Stone, ...  United States   \n",
       "8805  Tim Allen, Courteney Cox, Chevy Chase, Kate Ma...  United States   \n",
       "8806  Vicky Kaushal, Sarah-Jane Dias, Raaghav Chanan...          India   \n",
       "\n",
       "             date_added  release_year rating   duration  \\\n",
       "8802  November 20, 2019          2007      R    158 min   \n",
       "8803       July 1, 2019          2018  TV-Y7  2 Seasons   \n",
       "8804   November 1, 2019          2009      R     88 min   \n",
       "8805   January 11, 2020          2006     PG     88 min   \n",
       "8806      March 2, 2019          2015  TV-14    111 min   \n",
       "\n",
       "                                           listed_in  \\\n",
       "8802                  Cult Movies, Dramas, Thrillers   \n",
       "8803          Kids' TV, Korean TV Shows, TV Comedies   \n",
       "8804                         Comedies, Horror Movies   \n",
       "8805              Children & Family Movies, Comedies   \n",
       "8806  Dramas, International Movies, Music & Musicals   \n",
       "\n",
       "                                            description  \n",
       "8802  A political cartoonist, a crime reporter and a...  \n",
       "8803  While living alone in a spooky town, a young g...  \n",
       "8804  Looking to survive in a world taken over by zo...  \n",
       "8805  Dragged from civilian life, a former superhero...  \n",
       "8806  A scrappy but poor boy worms his way into a ty...  "
      ]
     },
     "execution_count": 10,
     "metadata": {},
     "output_type": "execute_result"
    }
   ],
   "source": [
    "# inspect last 5 rows of the new dataframe\n",
    "df.tail()"
   ]
  },
  {
   "cell_type": "markdown",
   "id": "edac431a-598a-4a34-b093-c9744926f106",
   "metadata": {},
   "source": [
    "--------------------------------------------------"
   ]
  },
  {
   "cell_type": "code",
   "execution_count": 11,
   "id": "2e5059f4-b1ad-4b24-8375-44d205c9c28f",
   "metadata": {
    "tags": []
   },
   "outputs": [
    {
     "name": "stdout",
     "output_type": "stream",
     "text": [
      "There are 8807 shows in the database\n",
      "There are 12 features in the database\n"
     ]
    }
   ],
   "source": [
    "# inspect number of features and shows\n",
    "print(f\"There are {df.shape[0]} shows in the database\\nThere are {df.shape[1]} features in the database\")"
   ]
  },
  {
   "cell_type": "code",
   "execution_count": 12,
   "id": "565e47fc-d13f-4f51-b6c7-8f42a02369c6",
   "metadata": {
    "tags": []
   },
   "outputs": [
    {
     "name": "stdout",
     "output_type": "stream",
     "text": [
      "Index(['show_id', 'type', 'title', 'director', 'cast', 'country', 'date_added',\n",
      "       'release_year', 'rating', 'duration', 'listed_in', 'description'],\n",
      "      dtype='object')\n"
     ]
    }
   ],
   "source": [
    "# inspect the columns name\n",
    "print(df.columns)"
   ]
  },
  {
   "cell_type": "markdown",
   "id": "af0d18fa-75a8-411f-b1e2-cbbcc560dc4c",
   "metadata": {},
   "source": [
    "--------------------------------------------------"
   ]
  },
  {
   "cell_type": "code",
   "execution_count": 13,
   "id": "dcd5766f-c6e7-4a35-b4cc-35d527e7ab6d",
   "metadata": {
    "tags": []
   },
   "outputs": [
    {
     "data": {
      "text/plain": [
       "show_id         object\n",
       "type            object\n",
       "title           object\n",
       "director        object\n",
       "cast            object\n",
       "country         object\n",
       "date_added      object\n",
       "release_year     int64\n",
       "rating          object\n",
       "duration        object\n",
       "listed_in       object\n",
       "description     object\n",
       "dtype: object"
      ]
     },
     "execution_count": 13,
     "metadata": {},
     "output_type": "execute_result"
    }
   ],
   "source": [
    "# inspect data types of columns\n",
    "df.dtypes"
   ]
  },
  {
   "cell_type": "markdown",
   "id": "ee205867-072d-4815-a58e-227caa40bea5",
   "metadata": {},
   "source": [
    "Most of the columns are classified as _objects_ whereas they would be expected to be _strings_. This will need to be addressed in the _Data cleaning_ section."
   ]
  },
  {
   "cell_type": "markdown",
   "id": "6caea6b9-7867-4efc-a5d8-efedae5cb81f",
   "metadata": {},
   "source": [
    "--------------------------------------------------"
   ]
  },
  {
   "cell_type": "code",
   "execution_count": 14,
   "id": "f7e72ab9-3d84-49b0-a2cb-1ad71ff55991",
   "metadata": {
    "tags": []
   },
   "outputs": [
    {
     "data": {
      "text/plain": [
       "show_id            0\n",
       "type               0\n",
       "title              0\n",
       "director        2634\n",
       "cast             825\n",
       "country          831\n",
       "date_added        10\n",
       "release_year       0\n",
       "rating             4\n",
       "duration           3\n",
       "listed_in          0\n",
       "description        0\n",
       "dtype: int64"
      ]
     },
     "execution_count": 14,
     "metadata": {},
     "output_type": "execute_result"
    }
   ],
   "source": [
    "# inspect missing data\n",
    "df.isna().sum()"
   ]
  },
  {
   "cell_type": "markdown",
   "id": "cfa370c9-8eba-426f-b50a-796824926a32",
   "metadata": {},
   "source": [
    "The columns *show_id, type, title, release_year, listed_in,* and *description* do not appear to have missing values.\n",
    "\n",
    "The others have a significant numbers of _NaN_ values and will need to be addressed in the _Data Cleaning_ section."
   ]
  },
  {
   "cell_type": "code",
   "execution_count": 15,
   "id": "d9fac0bf-1bb8-4f9b-927a-a5e4c62d055f",
   "metadata": {
    "tags": []
   },
   "outputs": [
    {
     "name": "stdout",
     "output_type": "stream",
     "text": [
      "show_id null rate: 0.0%\n",
      "type null rate: 0.0%\n",
      "title null rate: 0.0%\n",
      "director null rate: 29.9%\n",
      "cast null rate: 9.4%\n",
      "country null rate: 9.4%\n",
      "date_added null rate: 0.1%\n",
      "release_year null rate: 0.0%\n",
      "rating null rate: 0.0%\n",
      "duration null rate: 0.0%\n",
      "listed_in null rate: 0.0%\n",
      "description null rate: 0.0%\n"
     ]
    }
   ],
   "source": [
    "# inspect proportions of missing data in database\n",
    "percentage_missing_values(df, 'all')"
   ]
  },
  {
   "cell_type": "markdown",
   "id": "ebe02a16-ca69-481d-88ee-75544d6254df",
   "metadata": {},
   "source": [
    "--------------------------------------------------"
   ]
  },
  {
   "cell_type": "markdown",
   "id": "c2146488-ccb6-4851-a51a-5c78974bbd5c",
   "metadata": {},
   "source": [
    "There is only one column with numerical data on which we can run a statistical analysis:"
   ]
  },
  {
   "cell_type": "code",
   "execution_count": 16,
   "id": "b5e3bc92-101a-4b6d-b5cc-f8f94595223e",
   "metadata": {
    "tags": []
   },
   "outputs": [
    {
     "data": {
      "text/html": [
       "<div>\n",
       "<style scoped>\n",
       "    .dataframe tbody tr th:only-of-type {\n",
       "        vertical-align: middle;\n",
       "    }\n",
       "\n",
       "    .dataframe tbody tr th {\n",
       "        vertical-align: top;\n",
       "    }\n",
       "\n",
       "    .dataframe thead th {\n",
       "        text-align: right;\n",
       "    }\n",
       "</style>\n",
       "<table border=\"1\" class=\"dataframe\">\n",
       "  <thead>\n",
       "    <tr style=\"text-align: right;\">\n",
       "      <th></th>\n",
       "      <th>release_year</th>\n",
       "    </tr>\n",
       "  </thead>\n",
       "  <tbody>\n",
       "    <tr>\n",
       "      <th>count</th>\n",
       "      <td>8807.000000</td>\n",
       "    </tr>\n",
       "    <tr>\n",
       "      <th>mean</th>\n",
       "      <td>2014.180198</td>\n",
       "    </tr>\n",
       "    <tr>\n",
       "      <th>std</th>\n",
       "      <td>8.819312</td>\n",
       "    </tr>\n",
       "    <tr>\n",
       "      <th>min</th>\n",
       "      <td>1925.000000</td>\n",
       "    </tr>\n",
       "    <tr>\n",
       "      <th>25%</th>\n",
       "      <td>2013.000000</td>\n",
       "    </tr>\n",
       "    <tr>\n",
       "      <th>50%</th>\n",
       "      <td>2017.000000</td>\n",
       "    </tr>\n",
       "    <tr>\n",
       "      <th>75%</th>\n",
       "      <td>2019.000000</td>\n",
       "    </tr>\n",
       "    <tr>\n",
       "      <th>max</th>\n",
       "      <td>2021.000000</td>\n",
       "    </tr>\n",
       "  </tbody>\n",
       "</table>\n",
       "</div>"
      ],
      "text/plain": [
       "       release_year\n",
       "count   8807.000000\n",
       "mean    2014.180198\n",
       "std        8.819312\n",
       "min     1925.000000\n",
       "25%     2013.000000\n",
       "50%     2017.000000\n",
       "75%     2019.000000\n",
       "max     2021.000000"
      ]
     },
     "execution_count": 16,
     "metadata": {},
     "output_type": "execute_result"
    }
   ],
   "source": [
    "df.describe()"
   ]
  },
  {
   "cell_type": "markdown",
   "id": "73077aaa-ad31-4edc-a7cf-224f203d168e",
   "metadata": {},
   "source": [
    "From the results above, we can see that the data span from 1925 to 2021. This range will need to be assessed for accuracy in the _Data Cleaning_ section."
   ]
  },
  {
   "cell_type": "markdown",
   "id": "56078a3f-2eea-414a-9d6d-832f731ba497",
   "metadata": {
    "tags": []
   },
   "source": [
    "--------------------------------------------------"
   ]
  },
  {
   "cell_type": "code",
   "execution_count": 17,
   "id": "ee152028-9df7-4595-a607-afaf55ea6751",
   "metadata": {
    "tags": []
   },
   "outputs": [
    {
     "name": "stdout",
     "output_type": "stream",
     "text": [
      "The column show_id only has unique values as expected\n",
      "The column title only has unique values as expected\n"
     ]
    }
   ],
   "source": [
    "# ensure that show_id has truly unique values\n",
    "respected_uniqueness(df, 'show_id')\n",
    "\n",
    "# ensure that title has truly unique values\n",
    "respected_uniqueness(df, 'title')"
   ]
  },
  {
   "cell_type": "markdown",
   "id": "ec139d12-9a75-45fa-8a18-25272cf1e0f4",
   "metadata": {},
   "source": [
    "The columns *show_id* and *title* appear to be clean, as they do not have missing values and do not have duplicates."
   ]
  },
  {
   "cell_type": "markdown",
   "id": "6515b37a-1ab1-4025-8af3-bf2da1660b14",
   "metadata": {
    "tags": []
   },
   "source": [
    "--------------------------------------------------"
   ]
  },
  {
   "cell_type": "markdown",
   "id": "41bf3739-9438-416b-8f18-c4d64cce145a",
   "metadata": {},
   "source": [
    "**Summary and next steps**: \\\n",
    "From our EDA, we identified a few actions needed in _Data cleaning_ before proceeding the analysis of the data.\n",
    "- There are a lot of missing data (>5%) in the columns *director*, *cast*, and *country*\n",
    "- There are a small number of missing data (<1%) in the columns *date_added*, *rating*, and *duration*\n",
    "- All those object are categorical data or date. We cannot replace the missing data with mean values for example.\n",
    "- The data types of most of the features are _objects_ and will need to be changed to more accurate ones\n",
    "- Data seems to span from 1925 to 2021 and range should be inspected for reliability\n",
    "- The columns *show_id* and *title* appear to be clean"
   ]
  },
  {
   "cell_type": "markdown",
   "id": "d1b5b488-9a4c-4398-8c19-6285126f3732",
   "metadata": {},
   "source": [
    "### 3.2 Data cleaning"
   ]
  },
  {
   "cell_type": "markdown",
   "id": "c3e011cc-d635-4b3a-9cdf-dc4a7b963b5f",
   "metadata": {},
   "source": [
    "### 3.2.1 Column *type*"
   ]
  },
  {
   "cell_type": "code",
   "execution_count": 18,
   "id": "e4c1dd52-47fb-4046-b6de-afae9df05e82",
   "metadata": {
    "tags": []
   },
   "outputs": [],
   "source": [
    "# assign data type to string\n",
    "df['type'] = df['type'].astype('string')"
   ]
  },
  {
   "cell_type": "code",
   "execution_count": 19,
   "id": "99852168-972f-48ce-9317-01490683ab84",
   "metadata": {
    "tags": []
   },
   "outputs": [
    {
     "name": "stdout",
     "output_type": "stream",
     "text": [
      "type null rate: 0.0%\n",
      "-------------------------\n",
      "The data type of the column type is : string\n",
      "-------------------------\n",
      "type\n",
      "Movie      6131\n",
      "TV Show    2676\n",
      "Name: count, dtype: Int64\n"
     ]
    }
   ],
   "source": [
    "clean_overview(df, 'type')"
   ]
  },
  {
   "cell_type": "markdown",
   "id": "05d8c88f-4ac1-4773-b505-b41352ba3ba7",
   "metadata": {},
   "source": [
    "**Conclusion**: The column _type_ has no missing values, strings values, and has two unique values as expected. The column looks clean."
   ]
  },
  {
   "cell_type": "markdown",
   "id": "daecb3dc-4f91-4dab-be3d-01093a0f5bb1",
   "metadata": {},
   "source": [
    "### 3.2.2 Column _director_"
   ]
  },
  {
   "cell_type": "markdown",
   "id": "a86ab71b-704f-4526-bd65-cb062b3d8c24",
   "metadata": {},
   "source": [
    "The column _director_ is the column with the most of missing data. This will be addressed first as much as possible.\n",
    "\n",
    "The first step will identify the relevant pages for shows with missing director data, if they exist, and collect the info."
   ]
  },
  {
   "cell_type": "code",
   "execution_count": 20,
   "id": "3f66274a-0b91-4581-ab73-c258a495b78e",
   "metadata": {
    "tags": []
   },
   "outputs": [
    {
     "name": "stdout",
     "output_type": "stream",
     "text": [
      "Progress: [####################] 100.0%\n",
      "CPU times: total: 10min 35s\n",
      "Wall time: 37min 28s\n"
     ]
    }
   ],
   "source": [
    "%%time\n",
    "for i in range(0, len(df)):\n",
    "    if df.loc[i, 'director'] is np.nan:\n",
    "        title = df.loc[i, 'title'].replace(r\" \", \"_\")\n",
    "        try:\n",
    "            url = \"https://en.wikipedia.org/wiki/\" + title\n",
    "            response = requests.get(url)\n",
    "            soup = BeautifulSoup(response.text, 'html.parser')\n",
    "            #print(soup.title)\n",
    "        except:\n",
    "            continue\n",
    "        # directors\n",
    "        try:\n",
    "            director = soup.find(\"td\", {\"class\": \"infobox-data attendee\"}).string\n",
    "            df.loc[i, 'director']=director\n",
    "        except: continue\n",
    "        \n",
    "    time.sleep(0.1)\n",
    "    update_progress(i / len(df))\n",
    "\n",
    "update_progress(1)"
   ]
  },
  {
   "cell_type": "code",
   "execution_count": 21,
   "id": "211397ab-67b8-49ec-b119-9520e322f548",
   "metadata": {
    "tags": []
   },
   "outputs": [
    {
     "data": {
      "text/html": [
       "<div>\n",
       "<style scoped>\n",
       "    .dataframe tbody tr th:only-of-type {\n",
       "        vertical-align: middle;\n",
       "    }\n",
       "\n",
       "    .dataframe tbody tr th {\n",
       "        vertical-align: top;\n",
       "    }\n",
       "\n",
       "    .dataframe thead th {\n",
       "        text-align: right;\n",
       "    }\n",
       "</style>\n",
       "<table border=\"1\" class=\"dataframe\">\n",
       "  <thead>\n",
       "    <tr style=\"text-align: right;\">\n",
       "      <th></th>\n",
       "      <th>show_id</th>\n",
       "      <th>type</th>\n",
       "      <th>title</th>\n",
       "      <th>director</th>\n",
       "      <th>cast</th>\n",
       "      <th>country</th>\n",
       "      <th>date_added</th>\n",
       "      <th>release_year</th>\n",
       "      <th>rating</th>\n",
       "      <th>duration</th>\n",
       "      <th>listed_in</th>\n",
       "      <th>description</th>\n",
       "    </tr>\n",
       "  </thead>\n",
       "  <tbody>\n",
       "    <tr>\n",
       "      <th>0</th>\n",
       "      <td>s1</td>\n",
       "      <td>Movie</td>\n",
       "      <td>Dick Johnson Is Dead</td>\n",
       "      <td>Kirsten Johnson</td>\n",
       "      <td>NaN</td>\n",
       "      <td>United States</td>\n",
       "      <td>September 25, 2021</td>\n",
       "      <td>2020</td>\n",
       "      <td>PG-13</td>\n",
       "      <td>90 min</td>\n",
       "      <td>Documentaries</td>\n",
       "      <td>As her father nears the end of his life, filmm...</td>\n",
       "    </tr>\n",
       "    <tr>\n",
       "      <th>1</th>\n",
       "      <td>s2</td>\n",
       "      <td>TV Show</td>\n",
       "      <td>Blood &amp; Water</td>\n",
       "      <td>NaN</td>\n",
       "      <td>Ama Qamata, Khosi Ngema, Gail Mabalane, Thaban...</td>\n",
       "      <td>South Africa</td>\n",
       "      <td>September 24, 2021</td>\n",
       "      <td>2021</td>\n",
       "      <td>TV-MA</td>\n",
       "      <td>2 Seasons</td>\n",
       "      <td>International TV Shows, TV Dramas, TV Mysteries</td>\n",
       "      <td>After crossing paths at a party, a Cape Town t...</td>\n",
       "    </tr>\n",
       "    <tr>\n",
       "      <th>2</th>\n",
       "      <td>s3</td>\n",
       "      <td>TV Show</td>\n",
       "      <td>Ganglands</td>\n",
       "      <td>Julien Leclercq</td>\n",
       "      <td>Sami Bouajila, Tracy Gotoas, Samuel Jouy, Nabi...</td>\n",
       "      <td>NaN</td>\n",
       "      <td>September 24, 2021</td>\n",
       "      <td>2021</td>\n",
       "      <td>TV-MA</td>\n",
       "      <td>1 Season</td>\n",
       "      <td>Crime TV Shows, International TV Shows, TV Act...</td>\n",
       "      <td>To protect his family from a powerful drug lor...</td>\n",
       "    </tr>\n",
       "    <tr>\n",
       "      <th>3</th>\n",
       "      <td>s4</td>\n",
       "      <td>TV Show</td>\n",
       "      <td>Jailbirds New Orleans</td>\n",
       "      <td>NaN</td>\n",
       "      <td>NaN</td>\n",
       "      <td>NaN</td>\n",
       "      <td>September 24, 2021</td>\n",
       "      <td>2021</td>\n",
       "      <td>TV-MA</td>\n",
       "      <td>1 Season</td>\n",
       "      <td>Docuseries, Reality TV</td>\n",
       "      <td>Feuds, flirtations and toilet talk go down amo...</td>\n",
       "    </tr>\n",
       "    <tr>\n",
       "      <th>4</th>\n",
       "      <td>s5</td>\n",
       "      <td>TV Show</td>\n",
       "      <td>Kota Factory</td>\n",
       "      <td>Raghav Subbu</td>\n",
       "      <td>Mayur More, Jitendra Kumar, Ranjan Raj, Alam K...</td>\n",
       "      <td>India</td>\n",
       "      <td>September 24, 2021</td>\n",
       "      <td>2021</td>\n",
       "      <td>TV-MA</td>\n",
       "      <td>2 Seasons</td>\n",
       "      <td>International TV Shows, Romantic TV Shows, TV ...</td>\n",
       "      <td>In a city of coaching centers known to train I...</td>\n",
       "    </tr>\n",
       "  </tbody>\n",
       "</table>\n",
       "</div>"
      ],
      "text/plain": [
       "  show_id     type                  title         director  \\\n",
       "0      s1    Movie   Dick Johnson Is Dead  Kirsten Johnson   \n",
       "1      s2  TV Show          Blood & Water              NaN   \n",
       "2      s3  TV Show              Ganglands  Julien Leclercq   \n",
       "3      s4  TV Show  Jailbirds New Orleans              NaN   \n",
       "4      s5  TV Show           Kota Factory     Raghav Subbu   \n",
       "\n",
       "                                                cast        country  \\\n",
       "0                                                NaN  United States   \n",
       "1  Ama Qamata, Khosi Ngema, Gail Mabalane, Thaban...   South Africa   \n",
       "2  Sami Bouajila, Tracy Gotoas, Samuel Jouy, Nabi...            NaN   \n",
       "3                                                NaN            NaN   \n",
       "4  Mayur More, Jitendra Kumar, Ranjan Raj, Alam K...          India   \n",
       "\n",
       "           date_added  release_year rating   duration  \\\n",
       "0  September 25, 2021          2020  PG-13     90 min   \n",
       "1  September 24, 2021          2021  TV-MA  2 Seasons   \n",
       "2  September 24, 2021          2021  TV-MA   1 Season   \n",
       "3  September 24, 2021          2021  TV-MA   1 Season   \n",
       "4  September 24, 2021          2021  TV-MA  2 Seasons   \n",
       "\n",
       "                                           listed_in  \\\n",
       "0                                      Documentaries   \n",
       "1    International TV Shows, TV Dramas, TV Mysteries   \n",
       "2  Crime TV Shows, International TV Shows, TV Act...   \n",
       "3                             Docuseries, Reality TV   \n",
       "4  International TV Shows, Romantic TV Shows, TV ...   \n",
       "\n",
       "                                         description  \n",
       "0  As her father nears the end of his life, filmm...  \n",
       "1  After crossing paths at a party, a Cape Town t...  \n",
       "2  To protect his family from a powerful drug lor...  \n",
       "3  Feuds, flirtations and toilet talk go down amo...  \n",
       "4  In a city of coaching centers known to train I...  "
      ]
     },
     "execution_count": 21,
     "metadata": {},
     "output_type": "execute_result"
    }
   ],
   "source": [
    "df.head()"
   ]
  },
  {
   "cell_type": "code",
   "execution_count": 22,
   "id": "f2f8ec24-100c-4336-b1d2-06fa7e36a620",
   "metadata": {
    "tags": []
   },
   "outputs": [
    {
     "data": {
      "text/plain": [
       "show_id            0\n",
       "type               0\n",
       "title              0\n",
       "director        2298\n",
       "cast             825\n",
       "country          831\n",
       "date_added        10\n",
       "release_year       0\n",
       "rating             4\n",
       "duration           3\n",
       "listed_in          0\n",
       "description        0\n",
       "dtype: int64"
      ]
     },
     "execution_count": 22,
     "metadata": {},
     "output_type": "execute_result"
    }
   ],
   "source": [
    "df.isna().sum()"
   ]
  },
  {
   "cell_type": "markdown",
   "id": "7db4dc2d-a193-4a45-ab4e-ba2c56da0f44",
   "metadata": {},
   "source": [
    "The process takes time. A static csv file was generated to streamline the rest of the process."
   ]
  },
  {
   "cell_type": "markdown",
   "id": "fae018b5-268b-45cd-9301-b7b71d996f2d",
   "metadata": {},
   "source": [
    "There were still a lot of missing data left and a new approach was implemented by parsing the website [IMDb](https://www.imdb.com/)"
   ]
  },
  {
   "cell_type": "code",
   "execution_count": 23,
   "id": "a9a9c7af-52d2-45cd-8620-476c917eaedd",
   "metadata": {
    "tags": []
   },
   "outputs": [],
   "source": [
    "# create instance\n",
    "ia = Cinemagoer(accessSystem='http', reraiseExceptions=True)"
   ]
  },
  {
   "cell_type": "code",
   "execution_count": 24,
   "id": "61b2b035-ec09-41ec-b0e7-c47857236fd3",
   "metadata": {
    "tags": []
   },
   "outputs": [
    {
     "name": "stdout",
     "output_type": "stream",
     "text": [
      "Progress: [####################] 100.0%\n",
      "CPU times: total: 44.9 s\n",
      "Wall time: 2h 16min 6s\n"
     ]
    }
   ],
   "source": [
    "%%time\n",
    "for i in range(0, len(df)):\n",
    "    if df.loc[i, 'director'] is np.nan:\n",
    "        show_title = df.loc[i, 'title']\n",
    "        try:\n",
    "            search_movie = ia.search_movie(show_title)\n",
    "        except:\n",
    "            continue\n",
    "        try:\n",
    "            id_ = search_movie[0].getID()\n",
    "        except:\n",
    "            continue\n",
    "        try:\n",
    "            movie = ia.get_movie(id_)\n",
    "        except:\n",
    "            continue\n",
    "        \n",
    "        # director mising data\n",
    "        if df.loc[i, 'director'] is np.nan:\n",
    "            try:\n",
    "                director=movie['director'][0]['name']\n",
    "            except:\n",
    "                director=np.nan\n",
    "            df.loc[i, 'director'] = director\n",
    "\n",
    "    time.sleep(0.1)\n",
    "    update_progress(i / len(df))\n",
    "\n",
    "update_progress(1)"
   ]
  },
  {
   "cell_type": "code",
   "execution_count": 25,
   "id": "49ff4755-9fdd-4736-8b4d-808ec6f32ed3",
   "metadata": {
    "tags": []
   },
   "outputs": [
    {
     "name": "stdout",
     "output_type": "stream",
     "text": [
      "director null rate: 21.4%\n",
      "-------------------------\n",
      "The data type of the column director is : object\n",
      "-------------------------\n",
      "director\n",
      "Rajiv Chilaka                         21\n",
      "Raúl Campos, Jan Suter                18\n",
      "Suhas Kadav                           17\n",
      "Marcus Raboy                          16\n",
      "Jay Karas                             14\n",
      "                                      ..\n",
      "Josh Aronson                           1\n",
      "Luke Snellin                           1\n",
      "Xavier Durringer                       1\n",
      "Javier Fuentes-León, Carlos Moreno     1\n",
      "Mozez Singh                            1\n",
      "Name: count, Length: 5082, dtype: int64\n"
     ]
    }
   ],
   "source": [
    "# general inspection\n",
    "clean_overview(df, 'director')"
   ]
  },
  {
   "cell_type": "markdown",
   "id": "d8ef941b-7234-47a0-a191-cd46e55d7f80",
   "metadata": {},
   "source": [
    "### 3.2.3 Column _cast_"
   ]
  },
  {
   "cell_type": "code",
   "execution_count": 26,
   "id": "4ace44fc-34a8-475a-91a6-4257729fec30",
   "metadata": {
    "tags": []
   },
   "outputs": [
    {
     "name": "stdout",
     "output_type": "stream",
     "text": [
      "Progress: [####################] 100.0%\n",
      "CPU times: total: 1min 23s\n",
      "Wall time: 3h 6min 36s\n"
     ]
    }
   ],
   "source": [
    "%%time\n",
    "for i in range(0, len(df)):\n",
    "    # cast missing data\n",
    "    if (df.loc[i, 'cast'] is np.nan) or (df.loc[i, 'director'] is np.nan):\n",
    "        show_title = df.loc[i, 'title']\n",
    "        try:\n",
    "            search_movie = ia.search_movie(show_title)\n",
    "        except:\n",
    "            continue\n",
    "        try:\n",
    "            id_ = search_movie[0].getID()\n",
    "        except:\n",
    "            continue\n",
    "        try:\n",
    "            movie = ia.get_movie(id_)\n",
    "        except:\n",
    "            continue\n",
    "            \n",
    "        # missing data in cast\n",
    "        if (df.loc[i, 'cast'] is np.nan):\n",
    "            actor_list=[]\n",
    "            try:\n",
    "                movie = ia.get_movie(id_)\n",
    "                for actor in movie['cast']:\n",
    "                    actor_list.append(actor['name'])\n",
    "            except:\n",
    "                actor_list=[np.nan]\n",
    "            df.at[i, 'cast']=list_to_string(actor_list)\n",
    "            \n",
    "    time.sleep(0.1)\n",
    "    update_progress(i / len(df))\n",
    "\n",
    "update_progress(1)"
   ]
  },
  {
   "cell_type": "code",
   "execution_count": 27,
   "id": "9d061a52-834d-4104-8376-8f2ae58fcf8e",
   "metadata": {
    "tags": []
   },
   "outputs": [
    {
     "name": "stdout",
     "output_type": "stream",
     "text": [
      "cast null rate: 1.5%\n",
      "-------------------------\n",
      "The data type of the column cast is : object\n",
      "-------------------------\n",
      "cast\n",
      "David Attenborough                                                                                                                                                                           19\n",
      "Vatsal Dubey, Julie Tejwani, Rupa Bhimani, Jigna Bhardwaj, Rajesh Kava, Mousam, Swapnil                                                                                                      14\n",
      "Samuel West                                                                                                                                                                                  10\n",
      "Jeff Dunham                                                                                                                                                                                   7\n",
      "David Spade, London Hughes, Fortune Feimster                                                                                                                                                  6\n",
      "                                                                                                                                                                                             ..\n",
      "Sam Rockwell, Anna Kendrick, Tim Roth, James Ransone, Anson Mount, Michael Eklund, RZA, Katie Nehra                                                                                           1\n",
      "Uzo Aduba, Matthew Modine, Aunjanue Ellis, Niles Fitch, Amirah Vann, Nadji Jeter, Michael Beasley, Adina Porter, Vanessa Williams                                                             1\n",
      "Angelina Jolie, Brad Pitt, Mélanie Laurent, Melvil Poupaud, Niels Arestrup, Richard Bohringer                                                                                                 1\n",
      "Mike Myers, Eddie Murphy, Cameron Diaz, Antonio Banderas, Kristen Schaal, Simon Cowell, Gilles Marini, Charlotte Newhouse, Dean Edwards, Cody Cameron, Christopher Knights, Conrad Vernon     1\n",
      "Vicky Kaushal, Sarah-Jane Dias, Raaghav Chanana, Manish Chaudhary, Meghna Malik, Malkeet Rauni, Anita Shabdish, Chittaranjan Tripathy                                                         1\n",
      "Name: count, Length: 8376, dtype: int64\n"
     ]
    }
   ],
   "source": [
    "# general inspection\n",
    "clean_overview(df, 'cast')"
   ]
  },
  {
   "cell_type": "markdown",
   "id": "919cd87f-0352-4fdb-8cdb-1b7a537b77fb",
   "metadata": {},
   "source": [
    "### 3.2.4 Column _country_"
   ]
  },
  {
   "cell_type": "code",
   "execution_count": 28,
   "id": "0b5407a3-da91-4121-a0f7-b62847f06fad",
   "metadata": {
    "tags": []
   },
   "outputs": [
    {
     "name": "stdout",
     "output_type": "stream",
     "text": [
      "Progress: [####################] 100.0%\n",
      "CPU times: total: 2min 57s\n",
      "Wall time: 22min 32s\n"
     ]
    }
   ],
   "source": [
    "%%time\n",
    "for i in range(0, len(df)):\n",
    "    if df.loc[i, 'country'] is np.nan:\n",
    "        title = df.loc[i, 'title'].replace(r\" \", \"_\")\n",
    "        try:\n",
    "            url = \"https://en.wikipedia.org/wiki/\" + title\n",
    "            response = requests.get(url)\n",
    "            soup = BeautifulSoup(response.text, 'html.parser')\n",
    "        except:\n",
    "            continue\n",
    "        # country\n",
    "        try:\n",
    "            table = soup.find('table', {\"class\": \"infobox vevent\"})\n",
    "            country = str(table).partition('Country of origin</th><td class=\"infobox-data\"')[2]\n",
    "            country = country.partition('<')[0]\n",
    "            country= country[1:]\n",
    "            if country != \"\":\n",
    "                df.loc[i, 'country']=country\n",
    "            else:\n",
    "                df.loc[i, 'country']=np.nan\n",
    "        except: continue\n",
    "\n",
    "    time.sleep(0.1)\n",
    "    update_progress(i / len(df))\n",
    "\n",
    "update_progress(1)"
   ]
  },
  {
   "cell_type": "code",
   "execution_count": 29,
   "id": "489e511c-a9f2-4b29-ad76-190bf1cd82cf",
   "metadata": {
    "tags": []
   },
   "outputs": [
    {
     "name": "stdout",
     "output_type": "stream",
     "text": [
      "country null rate: 8.2%\n",
      "-------------------------\n",
      "The data type of the column country is : object\n",
      "-------------------------\n",
      "country\n",
      "United States                             2862\n",
      "India                                      993\n",
      "United Kingdom                             421\n",
      "Japan                                      248\n",
      "South Korea                                214\n",
      "                                          ... \n",
      "Romania, Bulgaria, Hungary                   1\n",
      "Uruguay, Guatemala                           1\n",
      "France, Senegal, Belgium                     1\n",
      "Mexico, United States, Spain, Colombia       1\n",
      "United Arab Emirates, Jordan                 1\n",
      "Name: count, Length: 750, dtype: int64\n"
     ]
    }
   ],
   "source": [
    "# general inspection\n",
    "clean_overview(df, 'country')"
   ]
  },
  {
   "cell_type": "markdown",
   "id": "c15276b9-e1c5-41b3-8e55-ae7f6b369b81",
   "metadata": {},
   "source": [
    "### 3.2.5 Column _date_added_"
   ]
  },
  {
   "cell_type": "code",
   "execution_count": 30,
   "id": "c5ca9176-1512-4ed7-a9b2-c838d5d303c5",
   "metadata": {
    "tags": []
   },
   "outputs": [
    {
     "data": {
      "text/html": [
       "<div>\n",
       "<style scoped>\n",
       "    .dataframe tbody tr th:only-of-type {\n",
       "        vertical-align: middle;\n",
       "    }\n",
       "\n",
       "    .dataframe tbody tr th {\n",
       "        vertical-align: top;\n",
       "    }\n",
       "\n",
       "    .dataframe thead th {\n",
       "        text-align: right;\n",
       "    }\n",
       "</style>\n",
       "<table border=\"1\" class=\"dataframe\">\n",
       "  <thead>\n",
       "    <tr style=\"text-align: right;\">\n",
       "      <th></th>\n",
       "      <th>show_id</th>\n",
       "      <th>type</th>\n",
       "      <th>title</th>\n",
       "      <th>director</th>\n",
       "      <th>cast</th>\n",
       "      <th>country</th>\n",
       "      <th>date_added</th>\n",
       "      <th>release_year</th>\n",
       "      <th>rating</th>\n",
       "      <th>duration</th>\n",
       "      <th>listed_in</th>\n",
       "      <th>description</th>\n",
       "    </tr>\n",
       "  </thead>\n",
       "  <tbody>\n",
       "    <tr>\n",
       "      <th>6066</th>\n",
       "      <td>s6067</td>\n",
       "      <td>TV Show</td>\n",
       "      <td>A Young Doctor's Notebook and Other Stories</td>\n",
       "      <td>None</td>\n",
       "      <td>Daniel Radcliffe, Jon Hamm, Adam Godley, Chris...</td>\n",
       "      <td>United Kingdom</td>\n",
       "      <td>NaN</td>\n",
       "      <td>2013</td>\n",
       "      <td>TV-MA</td>\n",
       "      <td>2 Seasons</td>\n",
       "      <td>British TV Shows, TV Comedies, TV Dramas</td>\n",
       "      <td>Set during the Russian Revolution, this comic ...</td>\n",
       "    </tr>\n",
       "    <tr>\n",
       "      <th>6174</th>\n",
       "      <td>s6175</td>\n",
       "      <td>TV Show</td>\n",
       "      <td>Anthony Bourdain: Parts Unknown</td>\n",
       "      <td>Anthony Bourdain</td>\n",
       "      <td>Anthony Bourdain</td>\n",
       "      <td>United States</td>\n",
       "      <td>NaN</td>\n",
       "      <td>2018</td>\n",
       "      <td>TV-PG</td>\n",
       "      <td>5 Seasons</td>\n",
       "      <td>Docuseries</td>\n",
       "      <td>This CNN original series has chef Anthony Bour...</td>\n",
       "    </tr>\n",
       "    <tr>\n",
       "      <th>6795</th>\n",
       "      <td>s6796</td>\n",
       "      <td>TV Show</td>\n",
       "      <td>Frasier</td>\n",
       "      <td>None</td>\n",
       "      <td>Kelsey Grammer, Jane Leeves, David Hyde Pierce...</td>\n",
       "      <td>United States</td>\n",
       "      <td>NaN</td>\n",
       "      <td>2003</td>\n",
       "      <td>TV-PG</td>\n",
       "      <td>11 Seasons</td>\n",
       "      <td>Classic &amp; Cult TV, TV Comedies</td>\n",
       "      <td>Frasier Crane is a snooty but lovable Seattle ...</td>\n",
       "    </tr>\n",
       "    <tr>\n",
       "      <th>6806</th>\n",
       "      <td>s6807</td>\n",
       "      <td>TV Show</td>\n",
       "      <td>Friends</td>\n",
       "      <td>None</td>\n",
       "      <td>Jennifer Aniston, Courteney Cox, Lisa Kudrow, ...</td>\n",
       "      <td>United States</td>\n",
       "      <td>NaN</td>\n",
       "      <td>2003</td>\n",
       "      <td>TV-14</td>\n",
       "      <td>10 Seasons</td>\n",
       "      <td>Classic &amp; Cult TV, TV Comedies</td>\n",
       "      <td>This hit sitcom follows the merry misadventure...</td>\n",
       "    </tr>\n",
       "    <tr>\n",
       "      <th>6901</th>\n",
       "      <td>s6902</td>\n",
       "      <td>TV Show</td>\n",
       "      <td>Gunslinger Girl</td>\n",
       "      <td>NaN</td>\n",
       "      <td>Yuuka Nanri, Kanako Mitsuhashi, Eri Sendai, Am...</td>\n",
       "      <td>Japan</td>\n",
       "      <td>NaN</td>\n",
       "      <td>2008</td>\n",
       "      <td>TV-14</td>\n",
       "      <td>2 Seasons</td>\n",
       "      <td>Anime Series, Crime TV Shows</td>\n",
       "      <td>On the surface, the Social Welfare Agency appe...</td>\n",
       "    </tr>\n",
       "    <tr>\n",
       "      <th>7196</th>\n",
       "      <td>s7197</td>\n",
       "      <td>TV Show</td>\n",
       "      <td>Kikoriki</td>\n",
       "      <td>None</td>\n",
       "      <td>Igor Dmitriev</td>\n",
       "      <td>Russia</td>\n",
       "      <td>NaN</td>\n",
       "      <td>2010</td>\n",
       "      <td>TV-Y</td>\n",
       "      <td>2 Seasons</td>\n",
       "      <td>Kids' TV</td>\n",
       "      <td>A wacky rabbit and his gang of animal pals hav...</td>\n",
       "    </tr>\n",
       "    <tr>\n",
       "      <th>7254</th>\n",
       "      <td>s7255</td>\n",
       "      <td>TV Show</td>\n",
       "      <td>La Familia P. Luche</td>\n",
       "      <td>NaN</td>\n",
       "      <td>Eugenio Derbez, Consuelo Duval, Luis Manuel Áv...</td>\n",
       "      <td>United States</td>\n",
       "      <td>NaN</td>\n",
       "      <td>2012</td>\n",
       "      <td>TV-14</td>\n",
       "      <td>3 Seasons</td>\n",
       "      <td>International TV Shows, Spanish-Language TV Sh...</td>\n",
       "      <td>This irreverent sitcom featues Ludovico, Feder...</td>\n",
       "    </tr>\n",
       "    <tr>\n",
       "      <th>7406</th>\n",
       "      <td>s7407</td>\n",
       "      <td>TV Show</td>\n",
       "      <td>Maron</td>\n",
       "      <td>NaN</td>\n",
       "      <td>Marc Maron, Judd Hirsch, Josh Brener, Nora Zeh...</td>\n",
       "      <td>United States</td>\n",
       "      <td>NaN</td>\n",
       "      <td>2016</td>\n",
       "      <td>TV-MA</td>\n",
       "      <td>4 Seasons</td>\n",
       "      <td>TV Comedies</td>\n",
       "      <td>Marc Maron stars as Marc Maron, who interviews...</td>\n",
       "    </tr>\n",
       "    <tr>\n",
       "      <th>7847</th>\n",
       "      <td>s7848</td>\n",
       "      <td>TV Show</td>\n",
       "      <td>Red vs. Blue</td>\n",
       "      <td>None</td>\n",
       "      <td>Burnie Burns, Jason Saldaña, Gustavo Sorola, G...</td>\n",
       "      <td>United States</td>\n",
       "      <td>NaN</td>\n",
       "      <td>2015</td>\n",
       "      <td>NR</td>\n",
       "      <td>13 Seasons</td>\n",
       "      <td>TV Action &amp; Adventure, TV Comedies, TV Sci-Fi ...</td>\n",
       "      <td>This parody of first-person shooter games, mil...</td>\n",
       "    </tr>\n",
       "    <tr>\n",
       "      <th>8182</th>\n",
       "      <td>s8183</td>\n",
       "      <td>TV Show</td>\n",
       "      <td>The Adventures of Figaro Pho</td>\n",
       "      <td>NaN</td>\n",
       "      <td>Luke Jurevicius, Craig Behenna, Charlotte Haml...</td>\n",
       "      <td>Australia</td>\n",
       "      <td>NaN</td>\n",
       "      <td>2015</td>\n",
       "      <td>TV-Y7</td>\n",
       "      <td>2 Seasons</td>\n",
       "      <td>Kids' TV, TV Comedies</td>\n",
       "      <td>Imagine your worst fears, then multiply them: ...</td>\n",
       "    </tr>\n",
       "  </tbody>\n",
       "</table>\n",
       "</div>"
      ],
      "text/plain": [
       "     show_id     type                                        title  \\\n",
       "6066   s6067  TV Show  A Young Doctor's Notebook and Other Stories   \n",
       "6174   s6175  TV Show              Anthony Bourdain: Parts Unknown   \n",
       "6795   s6796  TV Show                                      Frasier   \n",
       "6806   s6807  TV Show                                      Friends   \n",
       "6901   s6902  TV Show                              Gunslinger Girl   \n",
       "7196   s7197  TV Show                                     Kikoriki   \n",
       "7254   s7255  TV Show                          La Familia P. Luche   \n",
       "7406   s7407  TV Show                                        Maron   \n",
       "7847   s7848  TV Show                                 Red vs. Blue   \n",
       "8182   s8183  TV Show                 The Adventures of Figaro Pho   \n",
       "\n",
       "              director                                               cast  \\\n",
       "6066              None  Daniel Radcliffe, Jon Hamm, Adam Godley, Chris...   \n",
       "6174  Anthony Bourdain                                   Anthony Bourdain   \n",
       "6795              None  Kelsey Grammer, Jane Leeves, David Hyde Pierce...   \n",
       "6806              None  Jennifer Aniston, Courteney Cox, Lisa Kudrow, ...   \n",
       "6901               NaN  Yuuka Nanri, Kanako Mitsuhashi, Eri Sendai, Am...   \n",
       "7196              None                                      Igor Dmitriev   \n",
       "7254               NaN  Eugenio Derbez, Consuelo Duval, Luis Manuel Áv...   \n",
       "7406               NaN  Marc Maron, Judd Hirsch, Josh Brener, Nora Zeh...   \n",
       "7847              None  Burnie Burns, Jason Saldaña, Gustavo Sorola, G...   \n",
       "8182               NaN  Luke Jurevicius, Craig Behenna, Charlotte Haml...   \n",
       "\n",
       "             country date_added  release_year rating    duration  \\\n",
       "6066  United Kingdom        NaN          2013  TV-MA   2 Seasons   \n",
       "6174   United States        NaN          2018  TV-PG   5 Seasons   \n",
       "6795   United States        NaN          2003  TV-PG  11 Seasons   \n",
       "6806   United States        NaN          2003  TV-14  10 Seasons   \n",
       "6901           Japan        NaN          2008  TV-14   2 Seasons   \n",
       "7196          Russia        NaN          2010   TV-Y   2 Seasons   \n",
       "7254   United States        NaN          2012  TV-14   3 Seasons   \n",
       "7406   United States        NaN          2016  TV-MA   4 Seasons   \n",
       "7847   United States        NaN          2015     NR  13 Seasons   \n",
       "8182       Australia        NaN          2015  TV-Y7   2 Seasons   \n",
       "\n",
       "                                              listed_in  \\\n",
       "6066           British TV Shows, TV Comedies, TV Dramas   \n",
       "6174                                         Docuseries   \n",
       "6795                     Classic & Cult TV, TV Comedies   \n",
       "6806                     Classic & Cult TV, TV Comedies   \n",
       "6901                       Anime Series, Crime TV Shows   \n",
       "7196                                           Kids' TV   \n",
       "7254  International TV Shows, Spanish-Language TV Sh...   \n",
       "7406                                        TV Comedies   \n",
       "7847  TV Action & Adventure, TV Comedies, TV Sci-Fi ...   \n",
       "8182                              Kids' TV, TV Comedies   \n",
       "\n",
       "                                            description  \n",
       "6066  Set during the Russian Revolution, this comic ...  \n",
       "6174  This CNN original series has chef Anthony Bour...  \n",
       "6795  Frasier Crane is a snooty but lovable Seattle ...  \n",
       "6806  This hit sitcom follows the merry misadventure...  \n",
       "6901  On the surface, the Social Welfare Agency appe...  \n",
       "7196  A wacky rabbit and his gang of animal pals hav...  \n",
       "7254  This irreverent sitcom featues Ludovico, Feder...  \n",
       "7406  Marc Maron stars as Marc Maron, who interviews...  \n",
       "7847  This parody of first-person shooter games, mil...  \n",
       "8182  Imagine your worst fears, then multiply them: ...  "
      ]
     },
     "execution_count": 30,
     "metadata": {},
     "output_type": "execute_result"
    }
   ],
   "source": [
    "# inspect missing rows with missing values\n",
    "df_missing_date = df[df['date_added'].isna()]\n",
    "df_missing_date"
   ]
  },
  {
   "cell_type": "code",
   "execution_count": 31,
   "id": "4b0be36b-cbfd-4df1-a115-01f47bab1716",
   "metadata": {},
   "outputs": [
    {
     "data": {
      "text/plain": [
       "dtype('O')"
      ]
     },
     "execution_count": 31,
     "metadata": {},
     "output_type": "execute_result"
    }
   ],
   "source": [
    "# convert date_added to date format\n",
    "df['date_added'] = df['date_added'].apply(pd.to_datetime).dt.date\n",
    "df['date_added'].dtypes"
   ]
  },
  {
   "cell_type": "code",
   "execution_count": 32,
   "id": "980f28e6-61cb-4ceb-a1cc-8ed9b1a98e19",
   "metadata": {},
   "outputs": [
    {
     "data": {
      "text/html": [
       "<div>\n",
       "<style scoped>\n",
       "    .dataframe tbody tr th:only-of-type {\n",
       "        vertical-align: middle;\n",
       "    }\n",
       "\n",
       "    .dataframe tbody tr th {\n",
       "        vertical-align: top;\n",
       "    }\n",
       "\n",
       "    .dataframe thead th {\n",
       "        text-align: right;\n",
       "    }\n",
       "</style>\n",
       "<table border=\"1\" class=\"dataframe\">\n",
       "  <thead>\n",
       "    <tr style=\"text-align: right;\">\n",
       "      <th></th>\n",
       "      <th>show_id</th>\n",
       "      <th>type</th>\n",
       "      <th>title</th>\n",
       "      <th>director</th>\n",
       "      <th>cast</th>\n",
       "      <th>country</th>\n",
       "      <th>date_added</th>\n",
       "      <th>release_year</th>\n",
       "      <th>rating</th>\n",
       "      <th>duration</th>\n",
       "      <th>listed_in</th>\n",
       "      <th>description</th>\n",
       "    </tr>\n",
       "  </thead>\n",
       "  <tbody>\n",
       "    <tr>\n",
       "      <th>0</th>\n",
       "      <td>s1</td>\n",
       "      <td>Movie</td>\n",
       "      <td>Dick Johnson Is Dead</td>\n",
       "      <td>Kirsten Johnson</td>\n",
       "      <td>Michael Hilow, Ana Hoffman, Dick Johnson, Kirs...</td>\n",
       "      <td>United States</td>\n",
       "      <td>2021-09-25</td>\n",
       "      <td>2020</td>\n",
       "      <td>PG-13</td>\n",
       "      <td>90 min</td>\n",
       "      <td>Documentaries</td>\n",
       "      <td>As her father nears the end of his life, filmm...</td>\n",
       "    </tr>\n",
       "    <tr>\n",
       "      <th>1</th>\n",
       "      <td>s2</td>\n",
       "      <td>TV Show</td>\n",
       "      <td>Blood &amp; Water</td>\n",
       "      <td>NaN</td>\n",
       "      <td>Ama Qamata, Khosi Ngema, Gail Mabalane, Thaban...</td>\n",
       "      <td>South Africa</td>\n",
       "      <td>2021-09-24</td>\n",
       "      <td>2021</td>\n",
       "      <td>TV-MA</td>\n",
       "      <td>2 Seasons</td>\n",
       "      <td>International TV Shows, TV Dramas, TV Mysteries</td>\n",
       "      <td>After crossing paths at a party, a Cape Town t...</td>\n",
       "    </tr>\n",
       "    <tr>\n",
       "      <th>2</th>\n",
       "      <td>s3</td>\n",
       "      <td>TV Show</td>\n",
       "      <td>Ganglands</td>\n",
       "      <td>Julien Leclercq</td>\n",
       "      <td>Sami Bouajila, Tracy Gotoas, Samuel Jouy, Nabi...</td>\n",
       "      <td>France</td>\n",
       "      <td>2021-09-24</td>\n",
       "      <td>2021</td>\n",
       "      <td>TV-MA</td>\n",
       "      <td>1 Season</td>\n",
       "      <td>Crime TV Shows, International TV Shows, TV Act...</td>\n",
       "      <td>To protect his family from a powerful drug lor...</td>\n",
       "    </tr>\n",
       "    <tr>\n",
       "      <th>3</th>\n",
       "      <td>s4</td>\n",
       "      <td>TV Show</td>\n",
       "      <td>Jailbirds New Orleans</td>\n",
       "      <td>NaN</td>\n",
       "      <td>NaN</td>\n",
       "      <td>NaN</td>\n",
       "      <td>2021-09-24</td>\n",
       "      <td>2021</td>\n",
       "      <td>TV-MA</td>\n",
       "      <td>1 Season</td>\n",
       "      <td>Docuseries, Reality TV</td>\n",
       "      <td>Feuds, flirtations and toilet talk go down amo...</td>\n",
       "    </tr>\n",
       "    <tr>\n",
       "      <th>4</th>\n",
       "      <td>s5</td>\n",
       "      <td>TV Show</td>\n",
       "      <td>Kota Factory</td>\n",
       "      <td>Raghav Subbu</td>\n",
       "      <td>Mayur More, Jitendra Kumar, Ranjan Raj, Alam K...</td>\n",
       "      <td>India</td>\n",
       "      <td>2021-09-24</td>\n",
       "      <td>2021</td>\n",
       "      <td>TV-MA</td>\n",
       "      <td>2 Seasons</td>\n",
       "      <td>International TV Shows, Romantic TV Shows, TV ...</td>\n",
       "      <td>In a city of coaching centers known to train I...</td>\n",
       "    </tr>\n",
       "  </tbody>\n",
       "</table>\n",
       "</div>"
      ],
      "text/plain": [
       "  show_id     type                  title         director  \\\n",
       "0      s1    Movie   Dick Johnson Is Dead  Kirsten Johnson   \n",
       "1      s2  TV Show          Blood & Water              NaN   \n",
       "2      s3  TV Show              Ganglands  Julien Leclercq   \n",
       "3      s4  TV Show  Jailbirds New Orleans              NaN   \n",
       "4      s5  TV Show           Kota Factory     Raghav Subbu   \n",
       "\n",
       "                                                cast        country  \\\n",
       "0  Michael Hilow, Ana Hoffman, Dick Johnson, Kirs...  United States   \n",
       "1  Ama Qamata, Khosi Ngema, Gail Mabalane, Thaban...   South Africa   \n",
       "2  Sami Bouajila, Tracy Gotoas, Samuel Jouy, Nabi...         France   \n",
       "3                                                NaN            NaN   \n",
       "4  Mayur More, Jitendra Kumar, Ranjan Raj, Alam K...          India   \n",
       "\n",
       "   date_added  release_year rating   duration  \\\n",
       "0  2021-09-25          2020  PG-13     90 min   \n",
       "1  2021-09-24          2021  TV-MA  2 Seasons   \n",
       "2  2021-09-24          2021  TV-MA   1 Season   \n",
       "3  2021-09-24          2021  TV-MA   1 Season   \n",
       "4  2021-09-24          2021  TV-MA  2 Seasons   \n",
       "\n",
       "                                           listed_in  \\\n",
       "0                                      Documentaries   \n",
       "1    International TV Shows, TV Dramas, TV Mysteries   \n",
       "2  Crime TV Shows, International TV Shows, TV Act...   \n",
       "3                             Docuseries, Reality TV   \n",
       "4  International TV Shows, Romantic TV Shows, TV ...   \n",
       "\n",
       "                                         description  \n",
       "0  As her father nears the end of his life, filmm...  \n",
       "1  After crossing paths at a party, a Cape Town t...  \n",
       "2  To protect his family from a powerful drug lor...  \n",
       "3  Feuds, flirtations and toilet talk go down amo...  \n",
       "4  In a city of coaching centers known to train I...  "
      ]
     },
     "execution_count": 32,
     "metadata": {},
     "output_type": "execute_result"
    }
   ],
   "source": [
    "df.head()"
   ]
  },
  {
   "cell_type": "markdown",
   "id": "b8ebac9c-c7e5-4620-a4d5-403a3baa0028",
   "metadata": {},
   "source": [
    "The column looks clean with the adequate format. To simply future analysis, the month will also be extracted."
   ]
  },
  {
   "cell_type": "code",
   "execution_count": 33,
   "id": "9323f7a1-d8ac-41a4-aa06-6990485bd546",
   "metadata": {},
   "outputs": [
    {
     "data": {
      "text/html": [
       "<div>\n",
       "<style scoped>\n",
       "    .dataframe tbody tr th:only-of-type {\n",
       "        vertical-align: middle;\n",
       "    }\n",
       "\n",
       "    .dataframe tbody tr th {\n",
       "        vertical-align: top;\n",
       "    }\n",
       "\n",
       "    .dataframe thead th {\n",
       "        text-align: right;\n",
       "    }\n",
       "</style>\n",
       "<table border=\"1\" class=\"dataframe\">\n",
       "  <thead>\n",
       "    <tr style=\"text-align: right;\">\n",
       "      <th></th>\n",
       "      <th>show_id</th>\n",
       "      <th>type</th>\n",
       "      <th>title</th>\n",
       "      <th>director</th>\n",
       "      <th>cast</th>\n",
       "      <th>country</th>\n",
       "      <th>date_added</th>\n",
       "      <th>release_year</th>\n",
       "      <th>rating</th>\n",
       "      <th>release_month</th>\n",
       "      <th>duration</th>\n",
       "      <th>listed_in</th>\n",
       "      <th>description</th>\n",
       "    </tr>\n",
       "  </thead>\n",
       "  <tbody>\n",
       "    <tr>\n",
       "      <th>0</th>\n",
       "      <td>s1</td>\n",
       "      <td>Movie</td>\n",
       "      <td>Dick Johnson Is Dead</td>\n",
       "      <td>Kirsten Johnson</td>\n",
       "      <td>Michael Hilow, Ana Hoffman, Dick Johnson, Kirs...</td>\n",
       "      <td>United States</td>\n",
       "      <td>2021-09-25</td>\n",
       "      <td>2020</td>\n",
       "      <td>PG-13</td>\n",
       "      <td>9.0</td>\n",
       "      <td>90 min</td>\n",
       "      <td>Documentaries</td>\n",
       "      <td>As her father nears the end of his life, filmm...</td>\n",
       "    </tr>\n",
       "    <tr>\n",
       "      <th>1</th>\n",
       "      <td>s2</td>\n",
       "      <td>TV Show</td>\n",
       "      <td>Blood &amp; Water</td>\n",
       "      <td>NaN</td>\n",
       "      <td>Ama Qamata, Khosi Ngema, Gail Mabalane, Thaban...</td>\n",
       "      <td>South Africa</td>\n",
       "      <td>2021-09-24</td>\n",
       "      <td>2021</td>\n",
       "      <td>TV-MA</td>\n",
       "      <td>9.0</td>\n",
       "      <td>2 Seasons</td>\n",
       "      <td>International TV Shows, TV Dramas, TV Mysteries</td>\n",
       "      <td>After crossing paths at a party, a Cape Town t...</td>\n",
       "    </tr>\n",
       "    <tr>\n",
       "      <th>2</th>\n",
       "      <td>s3</td>\n",
       "      <td>TV Show</td>\n",
       "      <td>Ganglands</td>\n",
       "      <td>Julien Leclercq</td>\n",
       "      <td>Sami Bouajila, Tracy Gotoas, Samuel Jouy, Nabi...</td>\n",
       "      <td>France</td>\n",
       "      <td>2021-09-24</td>\n",
       "      <td>2021</td>\n",
       "      <td>TV-MA</td>\n",
       "      <td>9.0</td>\n",
       "      <td>1 Season</td>\n",
       "      <td>Crime TV Shows, International TV Shows, TV Act...</td>\n",
       "      <td>To protect his family from a powerful drug lor...</td>\n",
       "    </tr>\n",
       "    <tr>\n",
       "      <th>3</th>\n",
       "      <td>s4</td>\n",
       "      <td>TV Show</td>\n",
       "      <td>Jailbirds New Orleans</td>\n",
       "      <td>NaN</td>\n",
       "      <td>NaN</td>\n",
       "      <td>NaN</td>\n",
       "      <td>2021-09-24</td>\n",
       "      <td>2021</td>\n",
       "      <td>TV-MA</td>\n",
       "      <td>9.0</td>\n",
       "      <td>1 Season</td>\n",
       "      <td>Docuseries, Reality TV</td>\n",
       "      <td>Feuds, flirtations and toilet talk go down amo...</td>\n",
       "    </tr>\n",
       "    <tr>\n",
       "      <th>4</th>\n",
       "      <td>s5</td>\n",
       "      <td>TV Show</td>\n",
       "      <td>Kota Factory</td>\n",
       "      <td>Raghav Subbu</td>\n",
       "      <td>Mayur More, Jitendra Kumar, Ranjan Raj, Alam K...</td>\n",
       "      <td>India</td>\n",
       "      <td>2021-09-24</td>\n",
       "      <td>2021</td>\n",
       "      <td>TV-MA</td>\n",
       "      <td>9.0</td>\n",
       "      <td>2 Seasons</td>\n",
       "      <td>International TV Shows, Romantic TV Shows, TV ...</td>\n",
       "      <td>In a city of coaching centers known to train I...</td>\n",
       "    </tr>\n",
       "  </tbody>\n",
       "</table>\n",
       "</div>"
      ],
      "text/plain": [
       "  show_id     type                  title         director  \\\n",
       "0      s1    Movie   Dick Johnson Is Dead  Kirsten Johnson   \n",
       "1      s2  TV Show          Blood & Water              NaN   \n",
       "2      s3  TV Show              Ganglands  Julien Leclercq   \n",
       "3      s4  TV Show  Jailbirds New Orleans              NaN   \n",
       "4      s5  TV Show           Kota Factory     Raghav Subbu   \n",
       "\n",
       "                                                cast        country  \\\n",
       "0  Michael Hilow, Ana Hoffman, Dick Johnson, Kirs...  United States   \n",
       "1  Ama Qamata, Khosi Ngema, Gail Mabalane, Thaban...   South Africa   \n",
       "2  Sami Bouajila, Tracy Gotoas, Samuel Jouy, Nabi...         France   \n",
       "3                                                NaN            NaN   \n",
       "4  Mayur More, Jitendra Kumar, Ranjan Raj, Alam K...          India   \n",
       "\n",
       "   date_added  release_year rating  release_month   duration  \\\n",
       "0  2021-09-25          2020  PG-13            9.0     90 min   \n",
       "1  2021-09-24          2021  TV-MA            9.0  2 Seasons   \n",
       "2  2021-09-24          2021  TV-MA            9.0   1 Season   \n",
       "3  2021-09-24          2021  TV-MA            9.0   1 Season   \n",
       "4  2021-09-24          2021  TV-MA            9.0  2 Seasons   \n",
       "\n",
       "                                           listed_in  \\\n",
       "0                                      Documentaries   \n",
       "1    International TV Shows, TV Dramas, TV Mysteries   \n",
       "2  Crime TV Shows, International TV Shows, TV Act...   \n",
       "3                             Docuseries, Reality TV   \n",
       "4  International TV Shows, Romantic TV Shows, TV ...   \n",
       "\n",
       "                                         description  \n",
       "0  As her father nears the end of his life, filmm...  \n",
       "1  After crossing paths at a party, a Cape Town t...  \n",
       "2  To protect his family from a powerful drug lor...  \n",
       "3  Feuds, flirtations and toilet talk go down amo...  \n",
       "4  In a city of coaching centers known to train I...  "
      ]
     },
     "execution_count": 33,
     "metadata": {},
     "output_type": "execute_result"
    }
   ],
   "source": [
    "# extract the month from date_added into a new column\n",
    "for i in range (0, len(df)):\n",
    "    if df.loc[i, 'date_added'] is not np.nan:\n",
    "        df.loc[i, 'release_month'] = df.loc[i, 'date_added'].month\n",
    "    else:\n",
    "        df.loc[i, 'release_month'] = np.nan\n",
    "    \n",
    "# move column next to year\n",
    "column_to_move = df.pop('release_month')\n",
    "df.insert(9, 'release_month', column_to_move)\n",
    "\n",
    "# visualise updated dataframe\n",
    "df.head()"
   ]
  },
  {
   "cell_type": "code",
   "execution_count": 34,
   "id": "a8aee816-03fc-4486-b752-ebabc9dac7a6",
   "metadata": {},
   "outputs": [
    {
     "name": "stdout",
     "output_type": "stream",
     "text": [
      "date_added null rate: 0.1%\n",
      "-------------------------\n",
      "The data type of the column date_added is : object\n",
      "-------------------------\n",
      "date_added\n",
      "2020-01-01    110\n",
      "2019-11-01     91\n",
      "2018-03-01     75\n",
      "2019-12-31     74\n",
      "2018-10-01     71\n",
      "             ... \n",
      "2017-02-21      1\n",
      "2017-02-07      1\n",
      "2017-01-29      1\n",
      "2017-01-25      1\n",
      "2020-01-11      1\n",
      "Name: count, Length: 1714, dtype: int64\n",
      "#########################\n",
      "release_month null rate: 0.1%\n",
      "-------------------------\n",
      "The data type of the column release_month is : float64\n",
      "-------------------------\n",
      "release_month\n",
      "7.0     827\n",
      "12.0    813\n",
      "9.0     770\n",
      "4.0     764\n",
      "10.0    760\n",
      "8.0     755\n",
      "3.0     742\n",
      "1.0     738\n",
      "6.0     728\n",
      "11.0    705\n",
      "5.0     632\n",
      "2.0     563\n",
      "Name: count, dtype: int64\n"
     ]
    }
   ],
   "source": [
    "# general inspection\n",
    "clean_overview(df, 'date_added')\n",
    "print(5*\"#####\")\n",
    "clean_overview(df, 'release_month')"
   ]
  },
  {
   "cell_type": "markdown",
   "id": "a507abc9-d33d-4f0e-b1ce-da636bb65eae",
   "metadata": {},
   "source": [
    "### 3.2.6 Column _release_year_"
   ]
  },
  {
   "cell_type": "markdown",
   "id": "74cd6fb5-8bc4-4b12-b79d-3a6a8e7cf7d9",
   "metadata": {},
   "source": [
    "From the initial overview, we know that the year go from 1925 to 2021. We will start by looking at the detail of each year."
   ]
  },
  {
   "cell_type": "code",
   "execution_count": 35,
   "id": "77dae64f-de62-4351-b867-323df62039aa",
   "metadata": {},
   "outputs": [
    {
     "name": "stdout",
     "output_type": "stream",
     "text": [
      "{1925, 1942, 1943, 1944, 1945, 1946, 1947, 1954, 1955, 1956, 1958, 1959, 1960, 1961, 1962, 1963, 1964, 1965, 1966, 1967, 1968, 1969, 1970, 1971, 1972, 1973, 1974, 1975, 1976, 1977, 1978, 1979, 1980, 1981, 1982, 1983, 1984, 1985, 1986, 1987, 1988, 1989, 1990, 1991, 1992, 1993, 1994, 1995, 1996, 1997, 1998, 1999, 2000, 2001, 2002, 2003, 2004, 2005, 2006, 2007, 2008, 2009, 2010, 2011, 2012, 2013, 2014, 2015, 2016, 2017, 2018, 2019, 2020, 2021}\n"
     ]
    }
   ],
   "source": [
    "# check release_year\n",
    "year_set = set(df.release_year.unique())\n",
    "print(year_set)"
   ]
  },
  {
   "cell_type": "markdown",
   "id": "a5e03df0-b201-48ea-ad11-96c3c43fe831",
   "metadata": {},
   "source": [
    "The year 1925 looks indeed odd and out of place and need further investigation."
   ]
  },
  {
   "cell_type": "code",
   "execution_count": 36,
   "id": "d8083e66-20aa-4a7b-8843-36613e629e9c",
   "metadata": {},
   "outputs": [
    {
     "data": {
      "text/html": [
       "<div>\n",
       "<style scoped>\n",
       "    .dataframe tbody tr th:only-of-type {\n",
       "        vertical-align: middle;\n",
       "    }\n",
       "\n",
       "    .dataframe tbody tr th {\n",
       "        vertical-align: top;\n",
       "    }\n",
       "\n",
       "    .dataframe thead th {\n",
       "        text-align: right;\n",
       "    }\n",
       "</style>\n",
       "<table border=\"1\" class=\"dataframe\">\n",
       "  <thead>\n",
       "    <tr style=\"text-align: right;\">\n",
       "      <th></th>\n",
       "      <th>show_id</th>\n",
       "      <th>type</th>\n",
       "      <th>title</th>\n",
       "      <th>director</th>\n",
       "      <th>cast</th>\n",
       "      <th>country</th>\n",
       "      <th>date_added</th>\n",
       "      <th>release_year</th>\n",
       "      <th>rating</th>\n",
       "      <th>release_month</th>\n",
       "      <th>duration</th>\n",
       "      <th>listed_in</th>\n",
       "      <th>description</th>\n",
       "    </tr>\n",
       "  </thead>\n",
       "  <tbody>\n",
       "    <tr>\n",
       "      <th>4250</th>\n",
       "      <td>s4251</td>\n",
       "      <td>TV Show</td>\n",
       "      <td>Pioneers: First Women Filmmakers*</td>\n",
       "      <td>NaN</td>\n",
       "      <td>NaN</td>\n",
       "      <td>NaN</td>\n",
       "      <td>2018-12-30</td>\n",
       "      <td>1925</td>\n",
       "      <td>TV-14</td>\n",
       "      <td>12.0</td>\n",
       "      <td>1 Season</td>\n",
       "      <td>TV Shows</td>\n",
       "      <td>This collection restores films from women who ...</td>\n",
       "    </tr>\n",
       "  </tbody>\n",
       "</table>\n",
       "</div>"
      ],
      "text/plain": [
       "     show_id     type                              title director cast  \\\n",
       "4250   s4251  TV Show  Pioneers: First Women Filmmakers*      NaN  NaN   \n",
       "\n",
       "     country  date_added  release_year rating  release_month  duration  \\\n",
       "4250     NaN  2018-12-30          1925  TV-14           12.0  1 Season   \n",
       "\n",
       "     listed_in                                        description  \n",
       "4250  TV Shows  This collection restores films from women who ...  "
      ]
     },
     "execution_count": 36,
     "metadata": {},
     "output_type": "execute_result"
    }
   ],
   "source": [
    "df.loc[df['release_year']==1925]"
   ]
  },
  {
   "cell_type": "markdown",
   "id": "a7bac3dc-87ae-4a8a-9961-7b448f9f1ae0",
   "metadata": {},
   "source": [
    "According to the _date_added_ column, the value should be 2018 instead of 2021. It is very likely a typo and we changed it accordingly."
   ]
  },
  {
   "cell_type": "code",
   "execution_count": 37,
   "id": "1ad51ddb-e776-4c13-97c1-ccf8c93b5302",
   "metadata": {},
   "outputs": [],
   "source": [
    "# change year to the right value\n",
    "df.loc[4250,'release_year'] = 2018"
   ]
  },
  {
   "cell_type": "code",
   "execution_count": 38,
   "id": "99deb4a5-4999-4906-9e36-310b9b40eb08",
   "metadata": {},
   "outputs": [
    {
     "name": "stdout",
     "output_type": "stream",
     "text": [
      "{1942, 1943, 1944, 1945, 1946, 1947, 1954, 1955, 1956, 1958, 1959, 1960, 1961, 1962, 1963, 1964, 1965, 1966, 1967, 1968, 1969, 1970, 1971, 1972, 1973, 1974, 1975, 1976, 1977, 1978, 1979, 1980, 1981, 1982, 1983, 1984, 1985, 1986, 1987, 1988, 1989, 1990, 1991, 1992, 1993, 1994, 1995, 1996, 1997, 1998, 1999, 2000, 2001, 2002, 2003, 2004, 2005, 2006, 2007, 2008, 2009, 2010, 2011, 2012, 2013, 2014, 2015, 2016, 2017, 2018, 2019, 2020, 2021}\n"
     ]
    }
   ],
   "source": [
    "# check release_year again\n",
    "year_set = set(df.release_year.unique())\n",
    "print(year_set)"
   ]
  },
  {
   "cell_type": "code",
   "execution_count": 39,
   "id": "deaaf15c-cd77-4e38-8af3-0aea53bac6a5",
   "metadata": {},
   "outputs": [
    {
     "name": "stdout",
     "output_type": "stream",
     "text": [
      "release_year null rate: 0.0%\n",
      "-------------------------\n",
      "The data type of the column release_year is : int64\n",
      "-------------------------\n",
      "release_year\n",
      "2018    1148\n",
      "2017    1032\n",
      "2019    1030\n",
      "2020     953\n",
      "2016     902\n",
      "        ... \n",
      "1964       2\n",
      "1966       1\n",
      "1959       1\n",
      "1947       1\n",
      "1961       1\n",
      "Name: count, Length: 73, dtype: int64\n"
     ]
    }
   ],
   "source": [
    "# general inspection\n",
    "clean_overview(df, 'release_year')"
   ]
  },
  {
   "cell_type": "markdown",
   "id": "4f92f2cc-b2b6-4d29-8556-7862a892eb4b",
   "metadata": {},
   "source": [
    "### 3.2.7 Column _rating_"
   ]
  },
  {
   "cell_type": "code",
   "execution_count": 40,
   "id": "144d436d-3035-4fa6-8fd9-40f1e81bd76a",
   "metadata": {},
   "outputs": [
    {
     "data": {
      "text/plain": [
       "rating\n",
       "TV-MA       3207\n",
       "TV-14       2160\n",
       "TV-PG        863\n",
       "R            799\n",
       "PG-13        490\n",
       "TV-Y7        334\n",
       "TV-Y         307\n",
       "PG           287\n",
       "TV-G         220\n",
       "NR            80\n",
       "G             41\n",
       "TV-Y7-FV       6\n",
       "NC-17          3\n",
       "UR             3\n",
       "74 min         1\n",
       "84 min         1\n",
       "66 min         1\n",
       "Name: count, dtype: int64"
      ]
     },
     "execution_count": 40,
     "metadata": {},
     "output_type": "execute_result"
    }
   ],
   "source": [
    "# inspect values in rating\n",
    "df.rating.value_counts()"
   ]
  },
  {
   "cell_type": "markdown",
   "id": "eee69c69-fe0c-46a4-a77b-2bef58eb1ad4",
   "metadata": {},
   "source": [
    "From the values above, three seemed misplaced. The values: 74 min, 84 min, and 66 min actually belong to the colum _duration_."
   ]
  },
  {
   "cell_type": "code",
   "execution_count": 41,
   "id": "33b4b352-e699-4a4f-8a28-a10d485112af",
   "metadata": {},
   "outputs": [
    {
     "data": {
      "text/html": [
       "<div>\n",
       "<style scoped>\n",
       "    .dataframe tbody tr th:only-of-type {\n",
       "        vertical-align: middle;\n",
       "    }\n",
       "\n",
       "    .dataframe tbody tr th {\n",
       "        vertical-align: top;\n",
       "    }\n",
       "\n",
       "    .dataframe thead th {\n",
       "        text-align: right;\n",
       "    }\n",
       "</style>\n",
       "<table border=\"1\" class=\"dataframe\">\n",
       "  <thead>\n",
       "    <tr style=\"text-align: right;\">\n",
       "      <th></th>\n",
       "      <th>show_id</th>\n",
       "      <th>type</th>\n",
       "      <th>title</th>\n",
       "      <th>director</th>\n",
       "      <th>cast</th>\n",
       "      <th>country</th>\n",
       "      <th>date_added</th>\n",
       "      <th>release_year</th>\n",
       "      <th>rating</th>\n",
       "      <th>release_month</th>\n",
       "      <th>duration</th>\n",
       "      <th>listed_in</th>\n",
       "      <th>description</th>\n",
       "    </tr>\n",
       "  </thead>\n",
       "  <tbody>\n",
       "    <tr>\n",
       "      <th>5541</th>\n",
       "      <td>s5542</td>\n",
       "      <td>Movie</td>\n",
       "      <td>Louis C.K. 2017</td>\n",
       "      <td>Louis C.K.</td>\n",
       "      <td>Louis C.K.</td>\n",
       "      <td>United States</td>\n",
       "      <td>2017-04-04</td>\n",
       "      <td>2017</td>\n",
       "      <td>74 min</td>\n",
       "      <td>4.0</td>\n",
       "      <td>NaN</td>\n",
       "      <td>Movies</td>\n",
       "      <td>Louis C.K. muses on religion, eternal love, gi...</td>\n",
       "    </tr>\n",
       "  </tbody>\n",
       "</table>\n",
       "</div>"
      ],
      "text/plain": [
       "     show_id   type            title    director        cast        country  \\\n",
       "5541   s5542  Movie  Louis C.K. 2017  Louis C.K.  Louis C.K.  United States   \n",
       "\n",
       "      date_added  release_year  rating  release_month duration listed_in  \\\n",
       "5541  2017-04-04          2017  74 min            4.0      NaN    Movies   \n",
       "\n",
       "                                            description  \n",
       "5541  Louis C.K. muses on religion, eternal love, gi...  "
      ]
     },
     "execution_count": 41,
     "metadata": {},
     "output_type": "execute_result"
    }
   ],
   "source": [
    "df.loc[df['rating']==\"74 min\"]"
   ]
  },
  {
   "cell_type": "code",
   "execution_count": 42,
   "id": "f174e8a7-0c36-46ef-8d7a-8a9531ef8267",
   "metadata": {},
   "outputs": [
    {
     "data": {
      "text/html": [
       "<div>\n",
       "<style scoped>\n",
       "    .dataframe tbody tr th:only-of-type {\n",
       "        vertical-align: middle;\n",
       "    }\n",
       "\n",
       "    .dataframe tbody tr th {\n",
       "        vertical-align: top;\n",
       "    }\n",
       "\n",
       "    .dataframe thead th {\n",
       "        text-align: right;\n",
       "    }\n",
       "</style>\n",
       "<table border=\"1\" class=\"dataframe\">\n",
       "  <thead>\n",
       "    <tr style=\"text-align: right;\">\n",
       "      <th></th>\n",
       "      <th>show_id</th>\n",
       "      <th>type</th>\n",
       "      <th>title</th>\n",
       "      <th>director</th>\n",
       "      <th>cast</th>\n",
       "      <th>country</th>\n",
       "      <th>date_added</th>\n",
       "      <th>release_year</th>\n",
       "      <th>rating</th>\n",
       "      <th>release_month</th>\n",
       "      <th>duration</th>\n",
       "      <th>listed_in</th>\n",
       "      <th>description</th>\n",
       "    </tr>\n",
       "  </thead>\n",
       "  <tbody>\n",
       "    <tr>\n",
       "      <th>5794</th>\n",
       "      <td>s5795</td>\n",
       "      <td>Movie</td>\n",
       "      <td>Louis C.K.: Hilarious</td>\n",
       "      <td>Louis C.K.</td>\n",
       "      <td>Louis C.K.</td>\n",
       "      <td>United States</td>\n",
       "      <td>2016-09-16</td>\n",
       "      <td>2010</td>\n",
       "      <td>84 min</td>\n",
       "      <td>9.0</td>\n",
       "      <td>NaN</td>\n",
       "      <td>Movies</td>\n",
       "      <td>Emmy-winning comedy writer Louis C.K. brings h...</td>\n",
       "    </tr>\n",
       "  </tbody>\n",
       "</table>\n",
       "</div>"
      ],
      "text/plain": [
       "     show_id   type                  title    director        cast  \\\n",
       "5794   s5795  Movie  Louis C.K.: Hilarious  Louis C.K.  Louis C.K.   \n",
       "\n",
       "            country  date_added  release_year  rating  release_month duration  \\\n",
       "5794  United States  2016-09-16          2010  84 min            9.0      NaN   \n",
       "\n",
       "     listed_in                                        description  \n",
       "5794    Movies  Emmy-winning comedy writer Louis C.K. brings h...  "
      ]
     },
     "execution_count": 42,
     "metadata": {},
     "output_type": "execute_result"
    }
   ],
   "source": [
    "df.loc[df['rating']==\"84 min\"]"
   ]
  },
  {
   "cell_type": "code",
   "execution_count": 43,
   "id": "2df2cf1d-03b4-4931-99a8-9128fff27d9f",
   "metadata": {
    "tags": []
   },
   "outputs": [
    {
     "data": {
      "text/html": [
       "<div>\n",
       "<style scoped>\n",
       "    .dataframe tbody tr th:only-of-type {\n",
       "        vertical-align: middle;\n",
       "    }\n",
       "\n",
       "    .dataframe tbody tr th {\n",
       "        vertical-align: top;\n",
       "    }\n",
       "\n",
       "    .dataframe thead th {\n",
       "        text-align: right;\n",
       "    }\n",
       "</style>\n",
       "<table border=\"1\" class=\"dataframe\">\n",
       "  <thead>\n",
       "    <tr style=\"text-align: right;\">\n",
       "      <th></th>\n",
       "      <th>show_id</th>\n",
       "      <th>type</th>\n",
       "      <th>title</th>\n",
       "      <th>director</th>\n",
       "      <th>cast</th>\n",
       "      <th>country</th>\n",
       "      <th>date_added</th>\n",
       "      <th>release_year</th>\n",
       "      <th>rating</th>\n",
       "      <th>release_month</th>\n",
       "      <th>duration</th>\n",
       "      <th>listed_in</th>\n",
       "      <th>description</th>\n",
       "    </tr>\n",
       "  </thead>\n",
       "  <tbody>\n",
       "    <tr>\n",
       "      <th>5813</th>\n",
       "      <td>s5814</td>\n",
       "      <td>Movie</td>\n",
       "      <td>Louis C.K.: Live at the Comedy Store</td>\n",
       "      <td>Louis C.K.</td>\n",
       "      <td>Louis C.K.</td>\n",
       "      <td>United States</td>\n",
       "      <td>2016-08-15</td>\n",
       "      <td>2015</td>\n",
       "      <td>66 min</td>\n",
       "      <td>8.0</td>\n",
       "      <td>NaN</td>\n",
       "      <td>Movies</td>\n",
       "      <td>The comic puts his trademark hilarious/thought...</td>\n",
       "    </tr>\n",
       "  </tbody>\n",
       "</table>\n",
       "</div>"
      ],
      "text/plain": [
       "     show_id   type                                 title    director  \\\n",
       "5813   s5814  Movie  Louis C.K.: Live at the Comedy Store  Louis C.K.   \n",
       "\n",
       "            cast        country  date_added  release_year  rating  \\\n",
       "5813  Louis C.K.  United States  2016-08-15          2015  66 min   \n",
       "\n",
       "      release_month duration listed_in  \\\n",
       "5813            8.0      NaN    Movies   \n",
       "\n",
       "                                            description  \n",
       "5813  The comic puts his trademark hilarious/thought...  "
      ]
     },
     "execution_count": 43,
     "metadata": {},
     "output_type": "execute_result"
    }
   ],
   "source": [
    "df.loc[df['rating']==\"66 min\"]"
   ]
  },
  {
   "cell_type": "code",
   "execution_count": 44,
   "id": "2f8222b2-f3f6-4ec1-ad23-f8107530b868",
   "metadata": {},
   "outputs": [],
   "source": [
    "# replace values in duration\n",
    "df.loc[5541, 'rating'] = df.loc[5541, 'release_year']\n",
    "df.loc[5794, 'rating'] = df.loc[5541, 'release_year']\n",
    "df.loc[5813, 'rating'] = df.loc[5541, 'release_year']\n",
    "\n",
    "# a google search on the three titles showed that the rating should be TV-MA in the US\n",
    "df.loc[5541, 'rating'] = \"TV-MA\"\n",
    "df.loc[5794, 'rating'] = \"TV-MA\"\n",
    "df.loc[5813, 'rating'] = \"TV-MA\""
   ]
  },
  {
   "cell_type": "code",
   "execution_count": 45,
   "id": "86bada61-347d-41c8-b37d-70bb5ab69083",
   "metadata": {},
   "outputs": [
    {
     "data": {
      "text/plain": [
       "rating\n",
       "TV-MA       3210\n",
       "TV-14       2160\n",
       "TV-PG        863\n",
       "R            799\n",
       "PG-13        490\n",
       "TV-Y7        334\n",
       "TV-Y         307\n",
       "PG           287\n",
       "TV-G         220\n",
       "NR            80\n",
       "G             41\n",
       "TV-Y7-FV       6\n",
       "NC-17          3\n",
       "UR             3\n",
       "Name: count, dtype: int64"
      ]
     },
     "execution_count": 45,
     "metadata": {},
     "output_type": "execute_result"
    }
   ],
   "source": [
    "# inspect values in rating again\n",
    "df.rating.value_counts()"
   ]
  },
  {
   "cell_type": "code",
   "execution_count": 46,
   "id": "9e6205c8-bc0c-4b4a-abf8-b58c18f1a6cb",
   "metadata": {},
   "outputs": [],
   "source": [
    "# assign data type to string\n",
    "df['rating'] = df['rating'].astype('string')"
   ]
  },
  {
   "cell_type": "markdown",
   "id": "5df237d5-de62-4020-899b-ac2022ba3b01",
   "metadata": {},
   "source": [
    "The various ratings were fairly confusing, as they were open to interpretation, and were not consistent across regions. Their descriptions can be found on [Netflix help center](https://help.netflix.com/en/node/2064/us).\n",
    "\n",
    "To simplify our analysis, the ratings were divided in three categories based on Natflix' guidelines: Adult, Teens, and Kids."
   ]
  },
  {
   "cell_type": "code",
   "execution_count": 47,
   "id": "847512f9-5a0b-4644-90a9-04b5e01daa6e",
   "metadata": {
    "tags": []
   },
   "outputs": [],
   "source": [
    "# create a dictionary with ratings/suitable audiences\n",
    "maturity_dictionary = {\n",
    "    \"TV-MA\": \"Adults\",\n",
    "    \"TV-14\": \"Teens\",\n",
    "    \"TV-PG\": \"Kids\",\n",
    "    \"R\": \"Adults\",\n",
    "    \"PG-13\": \"Teens\",\n",
    "    \"TV-Y7\": \"Kids\",\n",
    "    \"TV-Y\": \"Kids\",\n",
    "    \"PG\": \"Kids\",\n",
    "    \"TV-G\": \"Kids\",\n",
    "    \"NR\": \"No rating\",\n",
    "    \"G\": \"Kids\",\n",
    "    \"TV-Y7-FV\": \"Kids\",\n",
    "    \"NC-17\": \"Adults\",\n",
    "    \"UR\": \"Kids\"\n",
    "}"
   ]
  },
  {
   "cell_type": "code",
   "execution_count": 48,
   "id": "9a1d3ba1-f9f0-48ee-a8a2-aa4d03a3e5e8",
   "metadata": {
    "tags": []
   },
   "outputs": [
    {
     "data": {
      "text/html": [
       "<div>\n",
       "<style scoped>\n",
       "    .dataframe tbody tr th:only-of-type {\n",
       "        vertical-align: middle;\n",
       "    }\n",
       "\n",
       "    .dataframe tbody tr th {\n",
       "        vertical-align: top;\n",
       "    }\n",
       "\n",
       "    .dataframe thead th {\n",
       "        text-align: right;\n",
       "    }\n",
       "</style>\n",
       "<table border=\"1\" class=\"dataframe\">\n",
       "  <thead>\n",
       "    <tr style=\"text-align: right;\">\n",
       "      <th></th>\n",
       "      <th>show_id</th>\n",
       "      <th>type</th>\n",
       "      <th>title</th>\n",
       "      <th>director</th>\n",
       "      <th>cast</th>\n",
       "      <th>country</th>\n",
       "      <th>date_added</th>\n",
       "      <th>release_year</th>\n",
       "      <th>rating</th>\n",
       "      <th>release_month</th>\n",
       "      <th>duration</th>\n",
       "      <th>audience</th>\n",
       "      <th>listed_in</th>\n",
       "      <th>description</th>\n",
       "    </tr>\n",
       "  </thead>\n",
       "  <tbody>\n",
       "    <tr>\n",
       "      <th>0</th>\n",
       "      <td>s1</td>\n",
       "      <td>Movie</td>\n",
       "      <td>Dick Johnson Is Dead</td>\n",
       "      <td>Kirsten Johnson</td>\n",
       "      <td>Michael Hilow, Ana Hoffman, Dick Johnson, Kirs...</td>\n",
       "      <td>United States</td>\n",
       "      <td>2021-09-25</td>\n",
       "      <td>2020</td>\n",
       "      <td>PG-13</td>\n",
       "      <td>9.0</td>\n",
       "      <td>90 min</td>\n",
       "      <td>Teens</td>\n",
       "      <td>Documentaries</td>\n",
       "      <td>As her father nears the end of his life, filmm...</td>\n",
       "    </tr>\n",
       "    <tr>\n",
       "      <th>1</th>\n",
       "      <td>s2</td>\n",
       "      <td>TV Show</td>\n",
       "      <td>Blood &amp; Water</td>\n",
       "      <td>NaN</td>\n",
       "      <td>Ama Qamata, Khosi Ngema, Gail Mabalane, Thaban...</td>\n",
       "      <td>South Africa</td>\n",
       "      <td>2021-09-24</td>\n",
       "      <td>2021</td>\n",
       "      <td>TV-MA</td>\n",
       "      <td>9.0</td>\n",
       "      <td>2 Seasons</td>\n",
       "      <td>Adults</td>\n",
       "      <td>International TV Shows, TV Dramas, TV Mysteries</td>\n",
       "      <td>After crossing paths at a party, a Cape Town t...</td>\n",
       "    </tr>\n",
       "    <tr>\n",
       "      <th>2</th>\n",
       "      <td>s3</td>\n",
       "      <td>TV Show</td>\n",
       "      <td>Ganglands</td>\n",
       "      <td>Julien Leclercq</td>\n",
       "      <td>Sami Bouajila, Tracy Gotoas, Samuel Jouy, Nabi...</td>\n",
       "      <td>France</td>\n",
       "      <td>2021-09-24</td>\n",
       "      <td>2021</td>\n",
       "      <td>TV-MA</td>\n",
       "      <td>9.0</td>\n",
       "      <td>1 Season</td>\n",
       "      <td>Adults</td>\n",
       "      <td>Crime TV Shows, International TV Shows, TV Act...</td>\n",
       "      <td>To protect his family from a powerful drug lor...</td>\n",
       "    </tr>\n",
       "    <tr>\n",
       "      <th>3</th>\n",
       "      <td>s4</td>\n",
       "      <td>TV Show</td>\n",
       "      <td>Jailbirds New Orleans</td>\n",
       "      <td>NaN</td>\n",
       "      <td>NaN</td>\n",
       "      <td>NaN</td>\n",
       "      <td>2021-09-24</td>\n",
       "      <td>2021</td>\n",
       "      <td>TV-MA</td>\n",
       "      <td>9.0</td>\n",
       "      <td>1 Season</td>\n",
       "      <td>Adults</td>\n",
       "      <td>Docuseries, Reality TV</td>\n",
       "      <td>Feuds, flirtations and toilet talk go down amo...</td>\n",
       "    </tr>\n",
       "    <tr>\n",
       "      <th>4</th>\n",
       "      <td>s5</td>\n",
       "      <td>TV Show</td>\n",
       "      <td>Kota Factory</td>\n",
       "      <td>Raghav Subbu</td>\n",
       "      <td>Mayur More, Jitendra Kumar, Ranjan Raj, Alam K...</td>\n",
       "      <td>India</td>\n",
       "      <td>2021-09-24</td>\n",
       "      <td>2021</td>\n",
       "      <td>TV-MA</td>\n",
       "      <td>9.0</td>\n",
       "      <td>2 Seasons</td>\n",
       "      <td>Adults</td>\n",
       "      <td>International TV Shows, Romantic TV Shows, TV ...</td>\n",
       "      <td>In a city of coaching centers known to train I...</td>\n",
       "    </tr>\n",
       "  </tbody>\n",
       "</table>\n",
       "</div>"
      ],
      "text/plain": [
       "  show_id     type                  title         director  \\\n",
       "0      s1    Movie   Dick Johnson Is Dead  Kirsten Johnson   \n",
       "1      s2  TV Show          Blood & Water              NaN   \n",
       "2      s3  TV Show              Ganglands  Julien Leclercq   \n",
       "3      s4  TV Show  Jailbirds New Orleans              NaN   \n",
       "4      s5  TV Show           Kota Factory     Raghav Subbu   \n",
       "\n",
       "                                                cast        country  \\\n",
       "0  Michael Hilow, Ana Hoffman, Dick Johnson, Kirs...  United States   \n",
       "1  Ama Qamata, Khosi Ngema, Gail Mabalane, Thaban...   South Africa   \n",
       "2  Sami Bouajila, Tracy Gotoas, Samuel Jouy, Nabi...         France   \n",
       "3                                                NaN            NaN   \n",
       "4  Mayur More, Jitendra Kumar, Ranjan Raj, Alam K...          India   \n",
       "\n",
       "   date_added  release_year rating  release_month   duration audience  \\\n",
       "0  2021-09-25          2020  PG-13            9.0     90 min    Teens   \n",
       "1  2021-09-24          2021  TV-MA            9.0  2 Seasons   Adults   \n",
       "2  2021-09-24          2021  TV-MA            9.0   1 Season   Adults   \n",
       "3  2021-09-24          2021  TV-MA            9.0   1 Season   Adults   \n",
       "4  2021-09-24          2021  TV-MA            9.0  2 Seasons   Adults   \n",
       "\n",
       "                                           listed_in  \\\n",
       "0                                      Documentaries   \n",
       "1    International TV Shows, TV Dramas, TV Mysteries   \n",
       "2  Crime TV Shows, International TV Shows, TV Act...   \n",
       "3                             Docuseries, Reality TV   \n",
       "4  International TV Shows, Romantic TV Shows, TV ...   \n",
       "\n",
       "                                         description  \n",
       "0  As her father nears the end of his life, filmm...  \n",
       "1  After crossing paths at a party, a Cape Town t...  \n",
       "2  To protect his family from a powerful drug lor...  \n",
       "3  Feuds, flirtations and toilet talk go down amo...  \n",
       "4  In a city of coaching centers known to train I...  "
      ]
     },
     "execution_count": 48,
     "metadata": {},
     "output_type": "execute_result"
    }
   ],
   "source": [
    "# generate a new column with uniform ratings\n",
    "df['audience'] = df['rating'].map(maturity_dictionary)\n",
    "\n",
    "# move column next to year\n",
    "column_to_move = df.pop('audience')\n",
    "df.insert(11, 'audience', column_to_move)\n",
    "\n",
    "df.head()"
   ]
  },
  {
   "cell_type": "code",
   "execution_count": 49,
   "id": "ed0bc48c-959a-4619-8ca1-bf10861cd490",
   "metadata": {},
   "outputs": [
    {
     "name": "stdout",
     "output_type": "stream",
     "text": [
      "rating null rate: 0.0%\n",
      "-------------------------\n",
      "The data type of the column rating is : string\n",
      "-------------------------\n",
      "rating\n",
      "TV-MA       3210\n",
      "TV-14       2160\n",
      "TV-PG        863\n",
      "R            799\n",
      "PG-13        490\n",
      "TV-Y7        334\n",
      "TV-Y         307\n",
      "PG           287\n",
      "TV-G         220\n",
      "NR            80\n",
      "G             41\n",
      "TV-Y7-FV       6\n",
      "NC-17          3\n",
      "UR             3\n",
      "Name: count, dtype: Int64\n",
      "audience null rate: 0.0%\n",
      "-------------------------\n",
      "The data type of the column audience is : object\n",
      "-------------------------\n",
      "audience\n",
      "Adults       4012\n",
      "Teens        2650\n",
      "Kids         2061\n",
      "No rating      80\n",
      "Name: count, dtype: int64\n"
     ]
    }
   ],
   "source": [
    "# general inspection\n",
    "clean_overview(df, 'rating')\n",
    "\n",
    "# general inspection\n",
    "clean_overview(df, 'audience')"
   ]
  },
  {
   "cell_type": "markdown",
   "id": "5338a03d-37c2-4861-8e23-f30387579b88",
   "metadata": {},
   "source": [
    "### 3.2.8 Column _listed_in_"
   ]
  },
  {
   "cell_type": "code",
   "execution_count": 50,
   "id": "2420a7cc-ab12-4d59-b516-0d5dea61f478",
   "metadata": {},
   "outputs": [],
   "source": [
    "# assign data type to string\n",
    "df['listed_in'] = df['listed_in'].astype('string')"
   ]
  },
  {
   "cell_type": "code",
   "execution_count": 51,
   "id": "434903fd-9c9f-4b00-90ef-667c3ac87161",
   "metadata": {},
   "outputs": [
    {
     "name": "stdout",
     "output_type": "stream",
     "text": [
      "listed_in null rate: 0.0%\n",
      "-------------------------\n",
      "The data type of the column listed_in is : string\n",
      "-------------------------\n",
      "listed_in\n",
      "Dramas, International Movies                        362\n",
      "Documentaries                                       359\n",
      "Stand-Up Comedy                                     334\n",
      "Comedies, Dramas, International Movies              274\n",
      "Dramas, Independent Movies, International Movies    252\n",
      "                                                   ... \n",
      "Classic Movies, Cult Movies, Documentaries            1\n",
      "Action & Adventure, Cult Movies, Dramas               1\n",
      "Classic Movies, Dramas, LGBTQ Movies                  1\n",
      "Children & Family Movies, Classic Movies              1\n",
      "Cult Movies, Dramas, Thrillers                        1\n",
      "Name: count, Length: 514, dtype: Int64\n"
     ]
    }
   ],
   "source": [
    "# general inspection\n",
    "clean_overview(df, 'listed_in')"
   ]
  },
  {
   "cell_type": "markdown",
   "id": "b3af9bc9-2165-40e6-8763-83c16f17184b",
   "metadata": {},
   "source": [
    "### 3.2.8 Column _description_"
   ]
  },
  {
   "cell_type": "code",
   "execution_count": 52,
   "id": "501cbc48-1d7b-4482-b099-db65c4501bbf",
   "metadata": {
    "tags": []
   },
   "outputs": [],
   "source": [
    "# assign data type to string\n",
    "df['description'] = df['description'].astype('string')"
   ]
  },
  {
   "cell_type": "code",
   "execution_count": 53,
   "id": "468f6a8c-044e-4dd6-aa78-beccf7fa36a8",
   "metadata": {},
   "outputs": [
    {
     "name": "stdout",
     "output_type": "stream",
     "text": [
      "description null rate: 0.0%\n",
      "-------------------------\n",
      "The data type of the column description is : string\n",
      "-------------------------\n",
      "description\n",
      "Paranormal activity at a lush, abandoned property alarms a group eager to redevelop the site, but the eerie events may not be as unearthly as they think.    4\n",
      "A surly septuagenarian gets another chance at her 20s after having her photo snapped at a studio that magically takes 50 years off her life.                 3\n",
      "Multiple women report their husbands as missing but when it appears they are looking for the same man, a police officer traces their cryptic connection.     3\n",
      "Challenged to compose 100 songs before he can marry the girl he loves, a tortured but passionate singer-songwriter embarks on a poignant musical journey.    3\n",
      "A scheming matriarch plots to cut off her disabled stepson and his wife from the family fortune, creating a division within the clan.                        2\n",
      "                                                                                                                                                            ..\n",
      "A philandering small-town mechanic's political ambitions are sparked when the visiting prime minister mistakenly grants him special security clearance.      1\n",
      "A change in the leadership of a political party sparks bitter conflict and the party's division into two rival factions.                                     1\n",
      "Strong-willed, middle-class Kashaf and carefree, wealthy Zaroon meet in college, but before love can take root, they each have some growing up to do.        1\n",
      "Recovering alcoholic Talal wakes up inside a small-town police station cell, where he's subject to the mind games of a psychotic sadist.                     1\n",
      "A scrappy but poor boy worms his way into a tycoon's dysfunctional family, while facing his fear of music and the truth about his past.                      1\n",
      "Name: count, Length: 8775, dtype: Int64\n"
     ]
    }
   ],
   "source": [
    "# general inspection\n",
    "clean_overview(df, 'description')"
   ]
  },
  {
   "cell_type": "markdown",
   "id": "3cefd740-1a94-43da-bfb7-646babafb2ad",
   "metadata": {},
   "source": [
    "### 3.2.9 General overview of clean data"
   ]
  },
  {
   "cell_type": "code",
   "execution_count": 54,
   "id": "9e1f7bdb-6c6a-430d-b718-4a50db3c3987",
   "metadata": {
    "tags": []
   },
   "outputs": [
    {
     "name": "stdout",
     "output_type": "stream",
     "text": [
      "show_id null rate: 0.0%\n",
      "type null rate: 0.0%\n",
      "title null rate: 0.0%\n",
      "director null rate: 21.4%\n",
      "cast null rate: 1.5%\n",
      "country null rate: 8.2%\n",
      "date_added null rate: 0.1%\n",
      "release_year null rate: 0.0%\n",
      "rating null rate: 0.0%\n",
      "release_month null rate: 0.1%\n",
      "duration null rate: 0.0%\n",
      "audience null rate: 0.0%\n",
      "listed_in null rate: 0.0%\n",
      "description null rate: 0.0%\n"
     ]
    }
   ],
   "source": [
    "# missing values\n",
    "percentage_missing_values(df, 'all')"
   ]
  },
  {
   "cell_type": "markdown",
   "id": "fc62c3f8-ae54-417e-b6db-b5370ca7d014",
   "metadata": {},
   "source": [
    "The amount a missing data has decreased compared to "
   ]
  },
  {
   "cell_type": "code",
   "execution_count": 59,
   "id": "f70e1934-d2c9-4dd6-9d78-e89e020eb88c",
   "metadata": {
    "tags": []
   },
   "outputs": [
    {
     "ename": "NameError",
     "evalue": "name 'df_original' is not defined",
     "output_type": "error",
     "traceback": [
      "\u001b[1;31m---------------------------------------------------------------------------\u001b[0m",
      "\u001b[1;31mNameError\u001b[0m                                 Traceback (most recent call last)",
      "Cell \u001b[1;32mIn[59], line 3\u001b[0m\n\u001b[0;32m      1\u001b[0m \u001b[38;5;66;03m# plot cleaning results\u001b[39;00m\n\u001b[0;32m      2\u001b[0m fig, ax \u001b[38;5;241m=\u001b[39m plt\u001b[38;5;241m.\u001b[39msubplots()\n\u001b[1;32m----> 3\u001b[0m original \u001b[38;5;241m=\u001b[39m ax\u001b[38;5;241m.\u001b[39mbar(df_original\u001b[38;5;241m.\u001b[39mvalue_counts(), bar_width, label\u001b[38;5;241m=\u001b[39m\u001b[38;5;124m\"\u001b[39m\u001b[38;5;124mRaw data\u001b[39m\u001b[38;5;124m\"\u001b[39m)\n\u001b[0;32m      5\u001b[0m cleaned \u001b[38;5;241m=\u001b[39m ax\u001b[38;5;241m.\u001b[39mbar(bar_width, df_clean\u001b[38;5;241m.\u001b[39mvalue_counts(), bar_width, label\u001b[38;5;241m=\u001b[39m\u001b[38;5;124m\"\u001b[39m\u001b[38;5;124mClean data\u001b[39m\u001b[38;5;124m\"\u001b[39m)\n\u001b[0;32m      7\u001b[0m ax\u001b[38;5;241m.\u001b[39mset_xlabel(\u001b[38;5;124m'\u001b[39m\u001b[38;5;124mShows features\u001b[39m\u001b[38;5;124m'\u001b[39m)\n",
      "\u001b[1;31mNameError\u001b[0m: name 'df_original' is not defined"
     ]
    },
    {
     "data": {
      "image/png": "[encoded data removed]",
      "text/plain": [
       "<Figure size 640x480 with 1 Axes>"
      ]
     },
     "metadata": {},
     "output_type": "display_data"
    }
   ],
   "source": [
    "# plot cleaning results\n",
    "fig, ax = plt.subplots()\n",
    "original = ax.bar(df_original.value_counts(), bar_width, label=\"Raw data\")\n",
    "\n",
    "cleaned = ax.bar(bar_width, df_clean.value_counts(), bar_width, label=\"Clean data\")\n",
    "\n",
    "ax.set_xlabel('Shows features')\n",
    "ax.set_ylabel('Number of missing data')\n",
    "ax.set_title('Comparison between raw database and cleaned databases')\n",
    "ax.set_xticks(bar_width / 2)\n",
    "ax.set_xticklabels([\"Show ID\", \"Type\", \"Title\", \"Director\", \"Cast\", \"Country\", \"Date added\", \"Release year\", \"Rating\", \"Audience\", \"Duration\", \"Listed in\", \"Description\"])\n",
    "ax.legend()\n",
    "\n",
    "plt.show()"
   ]
  },
  {
   "cell_type": "code",
   "execution_count": null,
   "id": "59bf088e-1848-4422-9a52-dc600260716d",
   "metadata": {
    "tags": []
   },
   "outputs": [],
   "source": [
    "# generate a static csv for avoid repeating cleaning steps\n",
    "df.to_csv('static_csv.csv')"
   ]
  },
  {
   "cell_type": "code",
   "execution_count": null,
   "id": "4b163b3d-09a6-4ef0-983e-45cad16a0283",
   "metadata": {
    "tags": []
   },
   "outputs": [],
   "source": [
    "##4. Data visualisation"
   ]
  },
  {
   "cell_type": "code",
   "execution_count": 58,
   "id": "a88d1a6e-0639-49d7-9e6f-653e8780f7ef",
   "metadata": {
    "tags": []
   },
   "outputs": [
    {
     "name": "stderr",
     "output_type": "stream",
     "text": [
      "No artists with labels found to put in legend.  Note that artists whose label start with an underscore are ignored when legend() is called with no argument.\n",
      "No artists with labels found to put in legend.  Note that artists whose label start with an underscore are ignored when legend() is called with no argument.\n"
     ]
    },
    {
     "ename": "TypeError",
     "evalue": "missing a required argument: 'x'",
     "output_type": "error",
     "traceback": [
      "\u001b[1;31m---------------------------------------------------------------------------\u001b[0m",
      "\u001b[1;31mTypeError\u001b[0m                                 Traceback (most recent call last)",
      "Cell \u001b[1;32mIn[58], line 12\u001b[0m\n\u001b[0;32m      9\u001b[0m ax2\u001b[38;5;241m.\u001b[39mlegend()\n\u001b[0;32m     10\u001b[0m ax2\u001b[38;5;241m.\u001b[39mset(title\u001b[38;5;241m=\u001b[39m\u001b[38;5;124m'\u001b[39m\u001b[38;5;124mTop 10 countries where filmed\u001b[39m\u001b[38;5;124m'\u001b[39m)\n\u001b[1;32m---> 12\u001b[0m ax3\u001b[38;5;241m.\u001b[39mhist(data\u001b[38;5;241m=\u001b[39mdf[\u001b[38;5;124m'\u001b[39m\u001b[38;5;124mrelease_year\u001b[39m\u001b[38;5;124m'\u001b[39m], bins\u001b[38;5;241m=\u001b[39m\u001b[38;5;241m20\u001b[39m)\n\u001b[0;32m     13\u001b[0m ax3\u001b[38;5;241m.\u001b[39mlegend()\n\u001b[0;32m     14\u001b[0m ax3\u001b[38;5;241m.\u001b[39mset(title\u001b[38;5;241m=\u001b[39m\u001b[38;5;124m'\u001b[39m\u001b[38;5;124mRelease through years\u001b[39m\u001b[38;5;124m'\u001b[39m)\n",
      "File \u001b[1;32m~\\anaconda3\\Lib\\site-packages\\matplotlib\\__init__.py:1467\u001b[0m, in \u001b[0;36m_preprocess_data.<locals>.inner\u001b[1;34m(ax, data, *args, **kwargs)\u001b[0m\n\u001b[0;32m   1464\u001b[0m \u001b[38;5;28;01mif\u001b[39;00m data \u001b[38;5;129;01mis\u001b[39;00m \u001b[38;5;28;01mNone\u001b[39;00m:\n\u001b[0;32m   1465\u001b[0m     \u001b[38;5;28;01mreturn\u001b[39;00m func(ax, \u001b[38;5;241m*\u001b[39m\u001b[38;5;28mmap\u001b[39m(sanitize_sequence, args), \u001b[38;5;241m*\u001b[39m\u001b[38;5;241m*\u001b[39mkwargs)\n\u001b[1;32m-> 1467\u001b[0m bound \u001b[38;5;241m=\u001b[39m new_sig\u001b[38;5;241m.\u001b[39mbind(ax, \u001b[38;5;241m*\u001b[39margs, \u001b[38;5;241m*\u001b[39m\u001b[38;5;241m*\u001b[39mkwargs)\n\u001b[0;32m   1468\u001b[0m auto_label \u001b[38;5;241m=\u001b[39m (bound\u001b[38;5;241m.\u001b[39marguments\u001b[38;5;241m.\u001b[39mget(label_namer)\n\u001b[0;32m   1469\u001b[0m               \u001b[38;5;129;01mor\u001b[39;00m bound\u001b[38;5;241m.\u001b[39mkwargs\u001b[38;5;241m.\u001b[39mget(label_namer))\n\u001b[0;32m   1471\u001b[0m \u001b[38;5;28;01mfor\u001b[39;00m k, v \u001b[38;5;129;01min\u001b[39;00m bound\u001b[38;5;241m.\u001b[39marguments\u001b[38;5;241m.\u001b[39mitems():\n",
      "File \u001b[1;32m~\\anaconda3\\Lib\\inspect.py:3212\u001b[0m, in \u001b[0;36mSignature.bind\u001b[1;34m(self, *args, **kwargs)\u001b[0m\n\u001b[0;32m   3207\u001b[0m \u001b[38;5;28;01mdef\u001b[39;00m \u001b[38;5;21mbind\u001b[39m(\u001b[38;5;28mself\u001b[39m, \u001b[38;5;241m/\u001b[39m, \u001b[38;5;241m*\u001b[39margs, \u001b[38;5;241m*\u001b[39m\u001b[38;5;241m*\u001b[39mkwargs):\n\u001b[0;32m   3208\u001b[0m \u001b[38;5;250m    \u001b[39m\u001b[38;5;124;03m\"\"\"Get a BoundArguments object, that maps the passed `args`\u001b[39;00m\n\u001b[0;32m   3209\u001b[0m \u001b[38;5;124;03m    and `kwargs` to the function's signature.  Raises `TypeError`\u001b[39;00m\n\u001b[0;32m   3210\u001b[0m \u001b[38;5;124;03m    if the passed arguments can not be bound.\u001b[39;00m\n\u001b[0;32m   3211\u001b[0m \u001b[38;5;124;03m    \"\"\"\u001b[39;00m\n\u001b[1;32m-> 3212\u001b[0m     \u001b[38;5;28;01mreturn\u001b[39;00m \u001b[38;5;28mself\u001b[39m\u001b[38;5;241m.\u001b[39m_bind(args, kwargs)\n",
      "File \u001b[1;32m~\\anaconda3\\Lib\\inspect.py:3127\u001b[0m, in \u001b[0;36mSignature._bind\u001b[1;34m(self, args, kwargs, partial)\u001b[0m\n\u001b[0;32m   3125\u001b[0m                 msg \u001b[38;5;241m=\u001b[39m \u001b[38;5;124m'\u001b[39m\u001b[38;5;124mmissing a required argument: \u001b[39m\u001b[38;5;132;01m{arg!r}\u001b[39;00m\u001b[38;5;124m'\u001b[39m\n\u001b[0;32m   3126\u001b[0m                 msg \u001b[38;5;241m=\u001b[39m msg\u001b[38;5;241m.\u001b[39mformat(arg\u001b[38;5;241m=\u001b[39mparam\u001b[38;5;241m.\u001b[39mname)\n\u001b[1;32m-> 3127\u001b[0m                 \u001b[38;5;28;01mraise\u001b[39;00m \u001b[38;5;167;01mTypeError\u001b[39;00m(msg) \u001b[38;5;28;01mfrom\u001b[39;00m \u001b[38;5;28;01mNone\u001b[39;00m\n\u001b[0;32m   3128\u001b[0m \u001b[38;5;28;01melse\u001b[39;00m:\n\u001b[0;32m   3129\u001b[0m     \u001b[38;5;66;03m# We have a positional argument to process\u001b[39;00m\n\u001b[0;32m   3130\u001b[0m     \u001b[38;5;28;01mtry\u001b[39;00m:\n",
      "\u001b[1;31mTypeError\u001b[0m: missing a required argument: 'x'"
     ]
    },
    {
     "data": {
      "image/png": "[encoded data removed]",
      "text/plain": [
       "<Figure size 640x480 with 5 Axes>"
      ]
     },
     "metadata": {},
     "output_type": "display_data"
    }
   ],
   "source": [
    "# General overview\n",
    "fig, (ax1, ax2, ax3, ax4, ax5) = plt.subplots(nrows=1, ncols=5)\n",
    "\n",
    "ax1.plot(data=df['type'])\n",
    "ax1.legend()\n",
    "ax1.set(title='Type of shows')\n",
    "\n",
    "ax2.plot(data=df['country'].head(10))\n",
    "ax2.legend()\n",
    "ax2.set(title='Top 10 countries where filmed')\n",
    "\n",
    "ax3.hist(data=df['release_year'], bins=20)\n",
    "ax3.legend()\n",
    "ax3.set(title='Release through years')\n",
    "\n",
    "ax4.hist(data=df['release_month'], bins=12)\n",
    "ax4.legend()\n",
    "ax4.set(title='Release through months')\n",
    "\n",
    "ax5.plot(data=df['audience'])\n",
    "ax5.legend()\n",
    "ax5.set(title='Youngest audience for ratings')\n",
    "\n",
    "plt.show()"
   ]
  },
  {
   "cell_type": "code",
   "execution_count": null,
   "id": "786db34d-7e63-4076-b273-cc0ce8c287e7",
   "metadata": {},
   "outputs": [],
   "source": []
  }
 ],
 "metadata": {
  "kernelspec": {
   "display_name": "Python 3 (ipykernel)",
   "language": "python",
   "name": "python3"
  },
  "language_info": {
   "codemirror_mode": {
    "name": "ipython",
    "version": 3
   },
   "file_extension": ".py",
   "mimetype": "text/x-python",
   "name": "python",
   "nbconvert_exporter": "python",
   "pygments_lexer": "ipython3",
   "version": "3.11.5"
  }
 },
 "nbformat": 4,
 "nbformat_minor": 5
}
